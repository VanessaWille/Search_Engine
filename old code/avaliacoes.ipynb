{
 "cells": [
  {
   "cell_type": "code",
   "execution_count": 2,
   "metadata": {},
   "outputs": [],
   "source": [
    "import pandas as pd\n",
    "import numpy as np\n",
    "import matplotlib.pyplot as plt\n",
    "import seaborn as sns\n",
    "\n",
    "import warnings\n",
    "warnings.filterwarnings(\"ignore\")\n"
   ]
  },
  {
   "cell_type": "code",
   "execution_count": 3,
   "metadata": {},
   "outputs": [],
   "source": [
    "vanessa_bm25 = pd.read_excel('reviews/Results_Bm25_Vanessa.xlsx')\n",
    "vanessa_Tfidf= pd.read_excel('reviews/Results_Tfidf_Vanessa.xlsx')\n",
    "vanessa_semantic = pd.read_excel('reviews/Results_Semantic_Vanessa.xlsx')\n",
    "\n",
    "ramalho_bm25 = pd.read_excel('reviews/Results_Bm25_ramalho.xlsx')\n",
    "ramalho_tfidf = pd.read_excel('reviews/Results_Tfidf_ramalho.xlsx')\n",
    "\n",
    "rodrigo_bm25 = pd.read_excel('reviews/Results_Bm25_Rodrigo.xlsx')\n",
    "rodrigo_tfidf = pd.read_excel('reviews/Results_Tfidf_Rodrigo.xlsx')\n",
    "rodrigo_semantic = pd.read_excel('reviews/Results_Semantic_Rodrigo.xlsx')\n",
    "\n",
    "sanches_bm25 = pd.read_excel('reviews/Results_Bm25_sanches.xlsx')\n",
    "sanches_tfidf = pd.read_excel('reviews/Results_Tfidf_sanches.xlsx')\n",
    "sanches_semantic = pd.read_excel('reviews/Results_Semantic_sanches.xlsx')"
   ]
  },
  {
   "cell_type": "code",
   "execution_count": 4,
   "metadata": {},
   "outputs": [],
   "source": [
    "# Renomeando coluna de Nota\n",
    "vanessa_Tfidf.rename(columns={'Unnamed: 6': 'Nota'}, inplace=True)\n",
    "vanessa_semantic.rename(columns={'Unnamed: 6': 'Nota'}, inplace=True)\n",
    "\n",
    "ramalho_bm25.rename(columns={'Unnamed: 6': 'Nota'}, inplace=True)\n",
    "ramalho_tfidf.rename(columns={'Unnamed: 6': 'Nota'}, inplace=True)\n",
    "\n",
    "rodrigo_bm25.rename(columns={'Unnamed: 12': 'Nota'}, inplace=True)\n",
    "rodrigo_tfidf.rename(columns={'Unnamed: 12': 'Nota'}, inplace=True)\n",
    "rodrigo_semantic.rename(columns={'Unnamed: 12': 'Nota'}, inplace=True)\n",
    "\n",
    "sanches_bm25.rename(columns={'nota': 'Nota'}, inplace=True)\n",
    "sanches_tfidf.rename(columns={'Unnamed: 6': 'Nota'}, inplace=True)\n",
    "sanches_semantic.rename(columns={'nota': 'Nota'}, inplace=True)\n",
    "\n",
    "# Para cada nota, descontar 1\n",
    "vanessa_bm25['Nota'] = vanessa_bm25['Nota'] - 1\n",
    "vanessa_Tfidf['Nota'] = vanessa_Tfidf['Nota'] - 1\n",
    "vanessa_semantic['Nota'] = vanessa_semantic['Nota'] - 1\n",
    "\n",
    "ramalho_bm25['Nota'] = ramalho_bm25['Nota'] - 1\n",
    "ramalho_tfidf['Nota'] = ramalho_tfidf['Nota'] - 1\n",
    "\n",
    "rodrigo_bm25['Nota'] = rodrigo_bm25['Nota'] - 1\n",
    "rodrigo_tfidf['Nota'] = rodrigo_tfidf['Nota'] - 1\n",
    "rodrigo_semantic['Nota'] = rodrigo_semantic['Nota'] - 1\n",
    "\n",
    "sanches_bm25['Nota'] = sanches_bm25['Nota'] - 1\n",
    "sanches_tfidf['Nota'] = sanches_tfidf['Nota'] - 1\n",
    "sanches_semantic['Nota'] = sanches_semantic['Nota'] - 1\n",
    "\n"
   ]
  },
  {
   "cell_type": "code",
   "execution_count": 5,
   "metadata": {},
   "outputs": [
    {
     "name": "stdout",
     "output_type": "stream",
     "text": [
      "Média das notas do avaliador Vanessa para BM25: 2.7636363636363637\n",
      "Média das notas do avaliador Ramalho para BM25: 2.5272727272727273\n",
      "Média das notas do avaliador Rodrigo para BM25: 2.890909090909091\n",
      "Média das notas do avaliador Sanches para BM25: 2.709090909090909\n",
      "\n",
      "\n",
      "Média das notas do avaliador Vanessa para TF-IDF: 2.672727272727273\n",
      "Média das notas do avaliador Ramalho para TF-IDF: 2.618181818181818\n",
      "Média das notas do avaliador Rodrigo para TF-IDF: 2.4363636363636365\n",
      "Média das notas do avaliador Sanches para TF-IDF: 2.909090909090909\n",
      "\n",
      "\n",
      "Média das notas do avaliador Vanessa para Semantic: 3.4363636363636365\n",
      "Média das notas do avaliador Rodrigo para Semantic: 3.5090909090909093\n",
      "Média das notas do avaliador Sanches para Semantic: 2.981818181818182\n"
     ]
    }
   ],
   "source": [
    "# Calcular a média das notas de cada avaliador para cada modelo\n",
    "\n",
    "lista_avaliadores_bm25 = {'Vanessa': vanessa_bm25, 'Ramalho': ramalho_bm25, 'Rodrigo': rodrigo_bm25, 'Sanches': sanches_bm25\n",
    "                          }\n",
    "lista_avaliadores_tfidf = {'Vanessa': vanessa_Tfidf, 'Ramalho': ramalho_tfidf, 'Rodrigo': rodrigo_tfidf, 'Sanches': sanches_tfidf\n",
    "                          }\n",
    "\n",
    "lista_avaliadores_semantic = {'Vanessa': vanessa_semantic, 'Rodrigo': rodrigo_semantic, 'Sanches': sanches_semantic\n",
    "                          }\n",
    "\n",
    "\n",
    "for avaliador in lista_avaliadores_bm25:\n",
    "    print(f'Média das notas do avaliador {avaliador} para BM25: {lista_avaliadores_bm25[avaliador].Nota.mean()}')\n",
    "\n",
    "print('\\n')\n",
    "\n",
    "for avaliador in lista_avaliadores_tfidf:\n",
    "    print(f'Média das notas do avaliador {avaliador} para TF-IDF: {lista_avaliadores_tfidf[avaliador].Nota.mean()}')\n",
    "\n",
    "\n",
    "print('\\n')\n",
    "\n",
    "for avaliador in lista_avaliadores_semantic:\n",
    "    print(f'Média das notas do avaliador {avaliador} para Semantic: {lista_avaliadores_semantic[avaliador].Nota.mean()}')\n",
    "\n"
   ]
  },
  {
   "cell_type": "code",
   "execution_count": 6,
   "metadata": {},
   "outputs": [
    {
     "name": "stdout",
     "output_type": "stream",
     "text": [
      "Média das notas para BM25: 2.7227272727272727\n",
      "Média das notas para TF-IDF: 2.659090909090909\n",
      "Média das notas para Semantic: 3.309090909090909\n"
     ]
    }
   ],
   "source": [
    "# Adicionar a média das notas dos avaliador em novos dataframes\n",
    "\n",
    "# BM25\n",
    "lista_media_bm25 = []\n",
    "\n",
    "for i in range(len(vanessa_bm25)):\n",
    "    lista_media_bm25.append((vanessa_bm25.Nota[i] + ramalho_bm25.Nota[i] + rodrigo_bm25.Nota[i]+ sanches_bm25.Nota[i]) / 4)\n",
    "\n",
    "bm_25 = vanessa_bm25.copy().drop('Nota', axis=1)\n",
    "\n",
    "bm_25['Media'] = lista_media_bm25\n",
    "\n",
    "\n",
    "# TF-IDF\n",
    "lista_media_tfidf = []\n",
    "\n",
    "for i in range(len(vanessa_Tfidf)):\n",
    "    lista_media_tfidf.append((vanessa_Tfidf.Nota[i] + ramalho_tfidf.Nota[i] + rodrigo_tfidf.Nota[i]+ sanches_tfidf.Nota[i]) / 4)\n",
    "\n",
    "tf_idf = vanessa_Tfidf.copy().drop('Nota', axis=1)\n",
    "\n",
    "tf_idf['Media'] = lista_media_tfidf\n",
    "\n",
    "\n",
    "# Semantic\n",
    "lista_media_semantic = []\n",
    "\n",
    "for i in range(len(vanessa_semantic)):\n",
    "    lista_media_semantic.append((vanessa_semantic.Nota[i] + rodrigo_semantic.Nota[i]+ sanches_semantic.Nota[i]) / 3)\n",
    "\n",
    "semantic = vanessa_semantic.copy().drop('Nota', axis=1)\n",
    "\n",
    "semantic['Media'] = lista_media_semantic\n",
    "\n",
    "print(f'Média das notas para BM25: {bm_25.Media.mean()}')\n",
    "print(f'Média das notas para TF-IDF: {tf_idf.Media.mean()}')\n",
    "print(f'Média das notas para Semantic: {semantic.Media.mean()}')\n"
   ]
  },
  {
   "cell_type": "markdown",
   "metadata": {},
   "source": [
    "### Cálculo do DCG"
   ]
  },
  {
   "cell_type": "code",
   "execution_count": 7,
   "metadata": {},
   "outputs": [
    {
     "name": "stdout",
     "output_type": "stream",
     "text": [
      "-------- Cálculo do DCG --------\n",
      "BM25\n",
      "Query: Brûlée Cream - DCG: 12.301688811751092\n",
      "Query: apple pie - DCG: 13.910396895438915\n",
      "Query: chocolate cake recipe - DCG: 13.693129333831779\n",
      "Query: fresh lemonade - DCG: 11.821226235399598\n",
      "Query: strogonoff with rice - DCG: 7.520305618345434\n",
      "Query: I'm vegan. How can I make a bolognese? - DCG: 5.608566009043177\n",
      "Query: healthy recipe for quick lunch - DCG: 12.148679462940649\n",
      "Query: how to make a pizza without an oven - DCG: 1.4742295594396961\n",
      "Query: pancake without flour and milk - DCG: 2.697426874618289\n",
      "Query: pasta without eggs - DCG: 1.166623718795864\n",
      "Query: what can I make for a romantic dinner - DCG: 10.90105391471157\n",
      "Média do DCG para BM25: 8.476666039483279\n",
      "\n",
      "\n",
      "TF-IDF\n",
      "Query: Brûlée Cream - DCG: 10.869495964008962\n",
      "Query: apple pie - DCG: 11.793701100781295\n",
      "Query: chocolate cake recipe - DCG: 13.546352833148628\n",
      "Query: fresh lemonade - DCG: 10.32239419196599\n",
      "Query: strogonoff with rice - DCG: 7.143821504975476\n",
      "Query: I'm vegan. How can I make a bolognese? - DCG: 0.0\n",
      "Query: healthy recipe for quick lunch - DCG: 12.758729585353784\n",
      "Query: how to make a pizza without an oven - DCG: 5.974229559439697\n",
      "Query: pancake without flour and milk - DCG: 3.6984591188793923\n",
      "Query: pasta without eggs - DCG: 3.110056822321508\n",
      "Query: what can I make for a romantic dinner - DCG: 13.334111455679748\n",
      "Média do DCG para TF-IDF: 8.413759285141317\n"
     ]
    }
   ],
   "source": [
    "# para cada query, calcule o DCG\n",
    "# a cada 5 linhas do dataframe, temos uma nova query, ou seja, 5 linhas para cada query\n",
    "print('-------- Cálculo do DCG --------')\n",
    "\n",
    "bm_25['DCG'] = 0\n",
    "\n",
    "lista_bm25_dcg = []\n",
    "\n",
    "for i in range(0, len(bm_25), 5):\n",
    "    bm_25.loc[i, 'DCG'] = bm_25.Media[i] / np.log2(2)\n",
    "    bm_25.loc[i+1, 'DCG'] = bm_25.Media[i+1] / np.log2(3)\n",
    "    bm_25.loc[i+2, 'DCG'] = bm_25.Media[i+2] / np.log2(4)\n",
    "    bm_25.loc[i+3, 'DCG'] = bm_25.Media[i+3] / np.log2(5)\n",
    "    bm_25.loc[i+4, 'DCG'] = bm_25.Media[i+4] / np.log2(6)\n",
    "\n",
    "\n",
    "print('BM25')\n",
    "for i in range(0, len(bm_25), 5):\n",
    "    dcg = bm_25.DCG[i] + bm_25.DCG[i+1] + bm_25.DCG[i+2] + bm_25.DCG[i+3] + bm_25.DCG[i+4]\n",
    "    print(f'Query: {bm_25.Query[i]} - DCG: {dcg}')\n",
    "    lista_bm25_dcg.append(dcg)\n",
    "\n",
    "print('Média do DCG para BM25:', np.mean(lista_bm25_dcg))\n",
    "\n",
    "print('\\n')\n",
    "\n",
    "tf_idf['DCG'] = 0\n",
    "\n",
    "for i in range(0, len(tf_idf), 5):\n",
    "    tf_idf.loc[i, 'DCG'] = tf_idf.Media[i] / np.log2(2)\n",
    "    tf_idf.loc[i+1, 'DCG'] = tf_idf.Media[i+1] / np.log2(3)\n",
    "    tf_idf.loc[i+2, 'DCG'] = tf_idf.Media[i+2] / np.log2(4)\n",
    "    tf_idf.loc[i+3, 'DCG'] = tf_idf.Media[i+3] / np.log2(5)\n",
    "    tf_idf.loc[i+4, 'DCG'] = tf_idf.Media[i+4] / np.log2(6)\n",
    "\n",
    "print('TF-IDF')\n",
    "\n",
    "lista_tfidf_dcg= []\n",
    "for i in range(0, len(tf_idf), 5):\n",
    "    dcg = tf_idf.DCG[i] + tf_idf.DCG[i+1] + tf_idf.DCG[i+2] + tf_idf.DCG[i+3] + tf_idf.DCG[i+4]\n",
    "    print(f'Query: {tf_idf.Query[i]} - DCG: {dcg}')\n",
    "    lista_tfidf_dcg.append(dcg)\n",
    "\n",
    "print('Média do DCG para TF-IDF:', np.mean(lista_tfidf_dcg))"
   ]
  },
  {
   "cell_type": "code",
   "execution_count": 8,
   "metadata": {},
   "outputs": [
    {
     "name": "stdout",
     "output_type": "stream",
     "text": [
      "Semantic\n",
      "Query: Brûlée Cream - DCG: 14.09873674170583\n",
      "Query: apple pie - DCG: 10.349928326179361\n",
      "Query: chocolate cake recipe - DCG: 14.280011325318782\n",
      "Query: fresh lemonade - DCG: 13.788511222348033\n",
      "Query: strogonoff with rice - DCG: 6.9867860501115056\n",
      "Query: I'm vegan. How can I make a bolognese? - DCG: 9.410391096825995\n",
      "Query: healthy recipe for quick lunch - DCG: 11.414881073167138\n",
      "Query: how to make a pizza without an oven - DCG: 1.8366884768414142\n",
      "Query: pancake without flour and milk - DCG: 5.093996789397134\n",
      "Query: pasta without eggs - DCG: 9.125362557461493\n",
      "Query: what can I make for a romantic dinner - DCG: 13.821675758682655\n",
      "Média do DCG para Semantic: 10.018815401639939\n"
     ]
    }
   ],
   "source": [
    "semantic['DCG'] = 0\n",
    "\n",
    "for i in range(0, len(semantic), 5):\n",
    "    semantic.loc[i, 'DCG'] = semantic.Media[i] / np.log2(2)\n",
    "    semantic.loc[i+1, 'DCG'] = semantic.Media[i+1] / np.log2(3)\n",
    "    semantic.loc[i+2, 'DCG'] = semantic.Media[i+2] / np.log2(4)\n",
    "    semantic.loc[i+3, 'DCG'] = semantic.Media[i+3] / np.log2(5)\n",
    "    semantic.loc[i+4, 'DCG'] = semantic.Media[i+4] / np.log2(6)\n",
    "\n",
    "print('Semantic')\n",
    "\n",
    "lista_semantic_dcg = []\n",
    "for i in range(0, len(semantic), 5):\n",
    "    dcg = semantic.DCG[i] + semantic.DCG[i+1] + semantic.DCG[i+2] + semantic.DCG[i+3] + semantic.DCG[i+4]\n",
    "    print(f'Query: {semantic.Query[i]} - DCG: {dcg}')\n",
    "    lista_semantic_dcg.append(dcg)\n",
    "\n",
    "print('Média do DCG para Semantic:', np.mean(lista_semantic_dcg))\n"
   ]
  },
  {
   "cell_type": "markdown",
   "metadata": {},
   "source": [
    "### Cálculo MAP"
   ]
  },
  {
   "cell_type": "code",
   "execution_count": 9,
   "metadata": {},
   "outputs": [
    {
     "name": "stdout",
     "output_type": "stream",
     "text": [
      "---------- Cálculo do MAP ----------\n",
      "BM25\n",
      "Query: Brûlée Cream - MAP: 0.6\n",
      "Query: apple pie - MAP: 1.0\n",
      "Query: chocolate cake recipe - MAP: 1.0\n",
      "Query: fresh lemonade - MAP: 0.6\n",
      "Query: strogonoff with rice - MAP: 0.2\n",
      "Query: I'm vegan. How can I make a bolognese? - MAP: 0.2\n",
      "Query: healthy recipe for quick lunch - MAP: 0.8\n",
      "Query: how to make a pizza without an oven - MAP: 0.0\n",
      "Query: pancake without flour and milk - MAP: 0.0\n",
      "Query: pasta without eggs - MAP: 0.0\n",
      "Query: what can I make for a romantic dinner - MAP: 0.4\n",
      "Média do MAP para BM25: 0.43636363636363645\n",
      "\n",
      "\n",
      "TF-IDF\n",
      "Query: Brûlée Cream - MAP: 0.6\n",
      "Query: apple pie - MAP: 0.6\n",
      "Query: chocolate cake recipe - MAP: 1.0\n",
      "Query: fresh lemonade - MAP: 0.4\n",
      "Query: strogonoff with rice - MAP: 0.2\n",
      "Query: I'm vegan. How can I make a bolognese? - MAP: 0.0\n",
      "Query: healthy recipe for quick lunch - MAP: 0.6\n",
      "Query: how to make a pizza without an oven - MAP: 0.2\n",
      "Query: pancake without flour and milk - MAP: 0.0\n",
      "Query: pasta without eggs - MAP: 0.0\n",
      "Query: what can I make for a romantic dinner - MAP: 0.8\n",
      "Média do MAP para TF-IDF: 0.39999999999999997\n"
     ]
    }
   ],
   "source": [
    "bm_25['Relevancia'] = 0\n",
    "tf_idf['Relevancia'] = 0\n",
    "\n",
    "for i in range(len(bm_25)):\n",
    "    if bm_25.Media[i] >= 4:\n",
    "        bm_25.loc[i, 'Relevancia'] = 1\n",
    "\n",
    "for i in range(len(tf_idf)):\n",
    "    if tf_idf.Media[i] >= 4:\n",
    "        tf_idf.loc[i, 'Relevancia'] = 1\n",
    "\n",
    "print('---------- Cálculo do MAP ----------')\n",
    "print('BM25')\n",
    "\n",
    "lista_precisao_bm25 = []\n",
    "\n",
    "for i in range(0, len(bm_25), 5):\n",
    "    map = (bm_25.Relevancia[i] + bm_25.Relevancia[i+1] + bm_25.Relevancia[i+2] + bm_25.Relevancia[i+3] + bm_25.Relevancia[i+4]) / 5\n",
    "    print(f'Query: {bm_25.Query[i]} - MAP: {map}')\n",
    "    lista_precisao_bm25.append(map)\n",
    "\n",
    "print('Média do MAP para BM25:', np.mean(lista_precisao_bm25))\n",
    "\n",
    "print('\\n')\n",
    "\n",
    "print('TF-IDF')\n",
    "\n",
    "lista_precisao_tfidf = []\n",
    "for i in range(0, len(tf_idf), 5):\n",
    "    map = (tf_idf.Relevancia[i] + tf_idf.Relevancia[i+1] + tf_idf.Relevancia[i+2] + tf_idf.Relevancia[i+3] + tf_idf.Relevancia[i+4]) / 5\n",
    "    print(f'Query: {tf_idf.Query[i]} - MAP: {map}')\n",
    "    lista_precisao_tfidf.append(map)\n",
    "\n",
    "print('Média do MAP para TF-IDF:', np.mean(lista_precisao_tfidf))"
   ]
  },
  {
   "cell_type": "code",
   "execution_count": 10,
   "metadata": {},
   "outputs": [
    {
     "name": "stdout",
     "output_type": "stream",
     "text": [
      "Semantic\n",
      "Query: Brûlée Cream - MAP: 1.0\n",
      "Query: apple pie - MAP: 0.4\n",
      "Query: chocolate cake recipe - MAP: 1.0\n",
      "Query: fresh lemonade - MAP: 0.8\n",
      "Query: strogonoff with rice - MAP: 0.4\n",
      "Query: I'm vegan. How can I make a bolognese? - MAP: 0.6\n",
      "Query: healthy recipe for quick lunch - MAP: 0.6\n",
      "Query: how to make a pizza without an oven - MAP: 0.0\n",
      "Query: pancake without flour and milk - MAP: 0.0\n",
      "Query: pasta without eggs - MAP: 0.6\n",
      "Query: what can I make for a romantic dinner - MAP: 1.0\n",
      "Média do MAP para Semantic: 0.5818181818181819\n"
     ]
    }
   ],
   "source": [
    "semantic['Relevancia'] = 0\n",
    "\n",
    "for i in range(len(semantic)):\n",
    "    if semantic.Media[i] >= 4:\n",
    "        semantic.loc[i, 'Relevancia'] = 1\n",
    "\n",
    "print('Semantic')\n",
    "\n",
    "lista_precisao_semantic = []\n",
    "\n",
    "for i in range(0, len(semantic), 5):\n",
    "    map = (semantic.Relevancia[i] + semantic.Relevancia[i+1] + semantic.Relevancia[i+2] + semantic.Relevancia[i+3] + semantic.Relevancia[i+4]) / 5\n",
    "    print(f'Query: {semantic.Query[i]} - MAP: {map}')\n",
    "    lista_precisao_semantic.append(map)\n",
    "\n",
    "print('Média do MAP para Semantic:', np.mean(lista_precisao_semantic))\n"
   ]
  },
  {
   "cell_type": "markdown",
   "metadata": {},
   "source": [
    "### F1 Score"
   ]
  }
 ],
 "metadata": {
  "kernelspec": {
   "display_name": "Python 3",
   "language": "python",
   "name": "python3"
  },
  "language_info": {
   "codemirror_mode": {
    "name": "ipython",
    "version": 3
   },
   "file_extension": ".py",
   "mimetype": "text/x-python",
   "name": "python",
   "nbconvert_exporter": "python",
   "pygments_lexer": "ipython3",
   "version": "3.10.8"
  }
 },
 "nbformat": 4,
 "nbformat_minor": 2
}
