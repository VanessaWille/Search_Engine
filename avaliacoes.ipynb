{
 "cells": [
  {
   "cell_type": "code",
   "execution_count": 47,
   "metadata": {},
   "outputs": [],
   "source": [
    "import pandas as pd\n",
    "import numpy as np\n",
    "import matplotlib.pyplot as plt\n",
    "import seaborn as sns\n"
   ]
  },
  {
   "cell_type": "code",
   "execution_count": 48,
   "metadata": {},
   "outputs": [],
   "source": [
    "vanessa_bm25 = pd.read_excel('reviews/Results_Bm25_Vanessa.xlsx')\n",
    "vanessa_Tfidf= pd.read_excel('reviews/Results_Tfidf_Vanessa.xlsx')\n",
    "\n",
    "ramalho_bm25 = pd.read_excel('reviews/Results_Bm25_ramalho.xlsx')\n",
    "ramalho_tfidf = pd.read_excel('reviews/Results_Tfidf_ramalho.xlsx')\n",
    "\n",
    "rodrigo_bm25 = pd.read_excel('reviews/Results_Tfidf_Rodrigo.xlsx')\n",
    "rodrigo_tfidf = pd.read_excel('reviews/Results_Tfidf_Rodrigo.xlsx')"
   ]
  },
  {
   "cell_type": "code",
   "execution_count": 49,
   "metadata": {},
   "outputs": [],
   "source": [
    "#renomear coluna 6 para nota\n",
    "vanessa_Tfidf.rename(columns={'Unnamed: 6': 'Nota'}, inplace=True)\n",
    "\n",
    "ramalho_bm25.rename(columns={'Unnamed: 6': 'Nota'}, inplace=True)\n",
    "ramalho_tfidf.rename(columns={'Unnamed: 6': 'Nota'}, inplace=True)\n",
    "\n",
    "rodrigo_bm25.rename(columns={'Unnamed: 12': 'Nota'}, inplace=True)\n",
    "rodrigo_tfidf.rename(columns={'Unnamed: 12': 'Nota'}, inplace=True)\n",
    "\n"
   ]
  },
  {
   "cell_type": "code",
   "execution_count": 50,
   "metadata": {},
   "outputs": [
    {
     "name": "stdout",
     "output_type": "stream",
     "text": [
      "Média das notas do avaliador Vanessa para BM25: 3.7636363636363637\n",
      "Média das notas do avaliador Ramalho para BM25: 3.5272727272727273\n",
      "Média das notas do avaliador Rodrigo para BM25: 3.4363636363636365\n",
      "\n",
      "\n",
      "Média das notas do avaliador Vanessa para TF-IDF: 3.672727272727273\n",
      "Média das notas do avaliador Ramalho para TF-IDF: 3.618181818181818\n",
      "Média das notas do avaliador Rodrigo para TF-IDF: 3.4363636363636365\n"
     ]
    }
   ],
   "source": [
    "# calcular a média das notas de cada avaliador\n",
    "\n",
    "lista_avaliadores_bm25 = {'Vanessa': vanessa_bm25, 'Ramalho': ramalho_bm25, 'Rodrigo': rodrigo_bm25\n",
    "                          }\n",
    "lista_avaliadores_tfidf = {'Vanessa': vanessa_Tfidf, 'Ramalho': ramalho_tfidf, 'Rodrigo': rodrigo_tfidf\n",
    "                          }\n",
    "\n",
    "\n",
    "for avaliador in lista_avaliadores_bm25:\n",
    "    print(f'Média das notas do avaliador {avaliador} para BM25: {lista_avaliadores_bm25[avaliador].Nota.mean()}')\n",
    "\n",
    "print('\\n')\n",
    "\n",
    "for avaliador in lista_avaliadores_tfidf:\n",
    "    print(f'Média das notas do avaliador {avaliador} para TF-IDF: {lista_avaliadores_tfidf[avaliador].Nota.mean()}')\n",
    "\n",
    "\n"
   ]
  },
  {
   "cell_type": "code",
   "execution_count": 51,
   "metadata": {},
   "outputs": [
    {
     "name": "stdout",
     "output_type": "stream",
     "text": [
      "Média das notas para BM25: 3.575757575757576\n",
      "Média das notas para TF-IDF: 3.5757575757575752\n"
     ]
    }
   ],
   "source": [
    "# adicionar coluna de média das notas dos avaliadores\n",
    "\n",
    "lista_media_bm25 = []\n",
    "\n",
    "for i in range(len(vanessa_bm25)):\n",
    "    lista_media_bm25.append((vanessa_bm25.Nota[i] + ramalho_bm25.Nota[i] + rodrigo_bm25.Nota[i]) / 3)\n",
    "\n",
    "bm_25 = vanessa_bm25.copy()\n",
    "\n",
    "bm_25['Media'] = lista_media_bm25\n",
    "\n",
    "lista_media_tfidf = []\n",
    "\n",
    "for i in range(len(vanessa_Tfidf)):\n",
    "    lista_media_tfidf.append((vanessa_Tfidf.Nota[i] + ramalho_tfidf.Nota[i] + rodrigo_tfidf.Nota[i]) / 3)\n",
    "\n",
    "tf_idf = vanessa_Tfidf.copy()\n",
    "\n",
    "tf_idf['Media'] = lista_media_tfidf\n",
    "\n",
    "# calcular a média das médias\n",
    "print(f'Média das notas para BM25: {bm_25.Media.mean()}')\n",
    "print(f'Média das notas para TF-IDF: {tf_idf.Media.mean()}')\n"
   ]
  },
  {
   "cell_type": "code",
   "execution_count": 52,
   "metadata": {},
   "outputs": [
    {
     "name": "stdout",
     "output_type": "stream",
     "text": [
      "-------- Cálculo do DCG --------\n",
      "BM25\n",
      "Query: Brûlée Cream - DCG: 14.005935778341803\n",
      "Query: apple pie - DCG: 16.873225347968418\n",
      "Query: chocolate cake recipe - DCG: 14.942548789895024\n",
      "Query: fresh lemonade - DCG: 15.303901906041812\n",
      "Query: strogonoff with rice - DCG: 12.420637252044614\n",
      "Query: I'm vegan. How can I make a bolognese? - DCG: 7.948459118879392\n",
      "Query: healthy recipe for quick lunch - DCG: 15.756490677103645\n",
      "Query: how to make a pizza without an oven - DCG: 5.8969182377587845\n",
      "Query: pancake without flour and milk - DCG: 7.527847991330241\n",
      "Query: pasta without eggs - DCG: 3.966241679685391\n",
      "Query: what can I make for a romantic dinner - DCG: 14.424766229089025\n",
      "Média do DCG para BM25: 2.3466722365116026\n",
      "\n",
      "\n",
      "TF-IDF\n",
      "Query: Brûlée Cream - DCG: 13.494631169960732\n",
      "Query: apple pie - DCG: 15.829401597129566\n",
      "Query: chocolate cake recipe - DCG: 14.74229559439696\n",
      "Query: fresh lemonade - DCG: 13.994631169960732\n",
      "Query: strogonoff with rice - DCG: 12.420637252044614\n",
      "Query: I'm vegan. How can I make a bolognese? - DCG: 2.9484591188793923\n",
      "Query: healthy recipe for quick lunch - DCG: 15.690754713276354\n",
      "Query: how to make a pizza without an oven - DCG: 9.896918237758785\n",
      "Query: pancake without flour and milk - DCG: 5.8969182377587845\n",
      "Query: pasta without eggs - DCG: 2.9484591188793923\n",
      "Query: what can I make for a romantic dinner - DCG: 16.42889520613344\n",
      "Média do DCG para TF-IDF: 2.2598545712032503\n"
     ]
    },
    {
     "name": "stderr",
     "output_type": "stream",
     "text": [
      "C:\\Users\\vanes\\AppData\\Local\\Temp\\ipykernel_11764\\2231747768.py:9: FutureWarning: Setting an item of incompatible dtype is deprecated and will raise an error in a future version of pandas. Value '1.8927892607143724' has dtype incompatible with int64, please explicitly cast to a compatible dtype first.\n",
      "  bm_25.loc[i+1, 'DCG'] = bm_25.Nota[i+1] / np.log2(3)\n",
      "C:\\Users\\vanes\\AppData\\Local\\Temp\\ipykernel_11764\\2231747768.py:27: FutureWarning: Setting an item of incompatible dtype is deprecated and will raise an error in a future version of pandas. Value '2.52371901428583' has dtype incompatible with int64, please explicitly cast to a compatible dtype first.\n",
      "  tf_idf.loc[i+1, 'DCG'] = tf_idf.Nota[i+1] / np.log2(3)\n"
     ]
    }
   ],
   "source": [
    "# para cada query, calcule o DCG\n",
    "# a cada 5 linhas do dataframe, temos uma nova query, ou seja, 5 linhas para cada query\n",
    "print('-------- Cálculo do DCG --------')\n",
    "\n",
    "bm_25['DCG'] = 0\n",
    "\n",
    "for i in range(0, len(bm_25), 5):\n",
    "    bm_25.loc[i, 'DCG'] = bm_25.Nota[i] / np.log2(2)\n",
    "    bm_25.loc[i+1, 'DCG'] = bm_25.Nota[i+1] / np.log2(3)\n",
    "    bm_25.loc[i+2, 'DCG'] = bm_25.Nota[i+2] / np.log2(4)\n",
    "    bm_25.loc[i+3, 'DCG'] = bm_25.Nota[i+3] / np.log2(5)\n",
    "    bm_25.loc[i+4, 'DCG'] = bm_25.Nota[i+4] / np.log2(6)\n",
    "\n",
    "\n",
    "print('BM25')\n",
    "for i in range(0, len(bm_25), 5):\n",
    "    print(f'Query: {bm_25.Query[i]} - DCG: {bm_25.DCG[i] + bm_25.DCG[i+1] + bm_25.DCG[i+2] + bm_25.DCG[i+3] + bm_25.DCG[i+4]}')\n",
    "\n",
    "print('Média do DCG para BM25:', bm_25.DCG.mean())\n",
    "\n",
    "print('\\n')\n",
    "\n",
    "tf_idf['DCG'] = 0\n",
    "\n",
    "for i in range(0, len(tf_idf), 5):\n",
    "    tf_idf.loc[i, 'DCG'] = tf_idf.Nota[i] / np.log2(2)\n",
    "    tf_idf.loc[i+1, 'DCG'] = tf_idf.Nota[i+1] / np.log2(3)\n",
    "    tf_idf.loc[i+2, 'DCG'] = tf_idf.Nota[i+2] / np.log2(4)\n",
    "    tf_idf.loc[i+3, 'DCG'] = tf_idf.Nota[i+3] / np.log2(5)\n",
    "    tf_idf.loc[i+4, 'DCG'] = tf_idf.Nota[i+4] / np.log2(6)\n",
    "\n",
    "print('TF-IDF')\n",
    "for i in range(0, len(tf_idf), 5):\n",
    "    print(f'Query: {tf_idf.Query[i]} - DCG: {tf_idf.DCG[i] + tf_idf.DCG[i+1] + tf_idf.DCG[i+2] + tf_idf.DCG[i+3] + tf_idf.DCG[i+4]}')\n",
    "\n",
    "print('Média do DCG para TF-IDF:', tf_idf.DCG.mean())"
   ]
  },
  {
   "cell_type": "code",
   "execution_count": 53,
   "metadata": {},
   "outputs": [
    {
     "name": "stdout",
     "output_type": "stream",
     "text": [
      "---------- Cálculo do MAP ----------\n",
      "BM25\n",
      "Query: Brûlée Cream - MAP: 0.6\n",
      "Query: apple pie - MAP: 1.0\n",
      "Query: chocolate cake recipe - MAP: 1.0\n",
      "Query: fresh lemonade - MAP: 1.0\n",
      "Query: strogonoff with rice - MAP: 0.4\n",
      "Query: I'm vegan. How can I make a bolognese? - MAP: 0.2\n",
      "Query: healthy recipe for quick lunch - MAP: 0.8\n",
      "Query: how to make a pizza without an oven - MAP: 0.0\n",
      "Query: pancake without flour and milk - MAP: 0.0\n",
      "Query: pasta without eggs - MAP: 0.0\n",
      "Query: what can I make for a romantic dinner - MAP: 1.0\n",
      "Média do MAP para BM25: 0.5454545454545454\n",
      "\n",
      "\n",
      "TF-IDF\n",
      "Query: Brûlée Cream - MAP: 0.8\n",
      "Query: apple pie - MAP: 1.0\n",
      "Query: chocolate cake recipe - MAP: 1.0\n",
      "Query: fresh lemonade - MAP: 0.8\n",
      "Query: strogonoff with rice - MAP: 0.4\n",
      "Query: I'm vegan. How can I make a bolognese? - MAP: 0.0\n",
      "Query: healthy recipe for quick lunch - MAP: 1.0\n",
      "Query: how to make a pizza without an oven - MAP: 0.2\n",
      "Query: pancake without flour and milk - MAP: 0.0\n",
      "Query: pasta without eggs - MAP: 0.0\n",
      "Query: what can I make for a romantic dinner - MAP: 1.0\n",
      "Média do MAP para TF-IDF: 0.5636363636363636\n"
     ]
    }
   ],
   "source": [
    "# adicionar coluna de relevancia, sendo 1 para notas maiores ou iguais a 4 e 0 para notas menores que 4\n",
    "print('---------- Cálculo do MAP ----------')\n",
    "bm_25['Relevancia'] = 0\n",
    "tf_idf['Relevancia'] = 0\n",
    "\n",
    "for i in range(len(bm_25)):\n",
    "    if bm_25.Nota[i] >= 4:\n",
    "        bm_25.loc[i, 'Relevancia'] = 1\n",
    "\n",
    "for i in range(len(tf_idf)):\n",
    "    if tf_idf.Nota[i] >= 4:\n",
    "        tf_idf.loc[i, 'Relevancia'] = 1\n",
    "\n",
    "\n",
    "print('BM25')\n",
    "\n",
    "lista_precisao_bm25 = []\n",
    "\n",
    "for i in range(0, len(bm_25), 5):\n",
    "    map = (bm_25.Relevancia[i] + bm_25.Relevancia[i+1] + bm_25.Relevancia[i+2] + bm_25.Relevancia[i+3] + bm_25.Relevancia[i+4]) / 5\n",
    "    print(f'Query: {bm_25.Query[i]} - MAP: {map}')\n",
    "    lista_precisao_bm25.append(map)\n",
    "\n",
    "print('Média do MAP para BM25:', np.mean(lista_precisao_bm25))\n",
    "\n",
    "\n",
    "print('\\n')\n",
    "\n",
    "\n",
    "print('TF-IDF')\n",
    "\n",
    "lista_precisao_tfidf = []\n",
    "for i in range(0, len(tf_idf), 5):\n",
    "    map = (tf_idf.Relevancia[i] + tf_idf.Relevancia[i+1] + tf_idf.Relevancia[i+2] + tf_idf.Relevancia[i+3] + tf_idf.Relevancia[i+4]) / 5\n",
    "    print(f'Query: {tf_idf.Query[i]} - MAP: {map}')\n",
    "    lista_precisao_tfidf.append(map)\n",
    "\n",
    "print('Média do MAP para TF-IDF:', np.mean(lista_precisao_tfidf))\n",
    "\n",
    "\n"
   ]
  }
 ],
 "metadata": {
  "kernelspec": {
   "display_name": "Python 3",
   "language": "python",
   "name": "python3"
  },
  "language_info": {
   "codemirror_mode": {
    "name": "ipython",
    "version": 3
   },
   "file_extension": ".py",
   "mimetype": "text/x-python",
   "name": "python",
   "nbconvert_exporter": "python",
   "pygments_lexer": "ipython3",
   "version": "3.10.8"
  }
 },
 "nbformat": 4,
 "nbformat_minor": 2
}
