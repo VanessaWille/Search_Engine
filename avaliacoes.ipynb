{
 "cells": [
  {
   "cell_type": "code",
   "execution_count": 72,
   "metadata": {},
   "outputs": [],
   "source": [
    "import pandas as pd\n",
    "import numpy as np\n",
    "import matplotlib.pyplot as plt\n",
    "import seaborn as sns\n",
    "\n",
    "import warnings\n",
    "warnings.filterwarnings(\"ignore\")\n"
   ]
  },
  {
   "cell_type": "code",
   "execution_count": 73,
   "metadata": {},
   "outputs": [],
   "source": [
    "vanessa_bm25 = pd.read_excel('reviews/Results_Bm25_Vanessa.xlsx')\n",
    "vanessa_Tfidf= pd.read_excel('reviews/Results_Tfidf_Vanessa.xlsx')\n",
    "vanessa_semantic = pd.read_excel('reviews/Results_Semantic_Vanessa.xlsx')\n",
    "\n",
    "ramalho_bm25 = pd.read_excel('reviews/Results_Bm25_ramalho.xlsx')\n",
    "ramalho_tfidf = pd.read_excel('reviews/Results_Tfidf_ramalho.xlsx')\n",
    "\n",
    "rodrigo_bm25 = pd.read_excel('reviews/Results_Bm25_Rodrigo.xlsx')\n",
    "rodrigo_tfidf = pd.read_excel('reviews/Results_Tfidf_Rodrigo.xlsx')"
   ]
  },
  {
   "cell_type": "code",
   "execution_count": 74,
   "metadata": {},
   "outputs": [],
   "source": [
    "# Renomeando coluna de Nota\n",
    "vanessa_Tfidf.rename(columns={'Unnamed: 6': 'Nota'}, inplace=True)\n",
    "vanessa_semantic.rename(columns={'Unnamed: 6': 'Nota'}, inplace=True)\n",
    "\n",
    "ramalho_bm25.rename(columns={'Unnamed: 6': 'Nota'}, inplace=True)\n",
    "ramalho_tfidf.rename(columns={'Unnamed: 6': 'Nota'}, inplace=True)\n",
    "\n",
    "rodrigo_bm25.rename(columns={'Unnamed: 12': 'Nota'}, inplace=True)\n",
    "rodrigo_tfidf.rename(columns={'Unnamed: 12': 'Nota'}, inplace=True)\n",
    "\n"
   ]
  },
  {
   "cell_type": "code",
   "execution_count": 75,
   "metadata": {},
   "outputs": [
    {
     "name": "stdout",
     "output_type": "stream",
     "text": [
      "Média das notas do avaliador Vanessa para BM25: 3.7636363636363637\n",
      "Média das notas do avaliador Ramalho para BM25: 3.5272727272727273\n",
      "Média das notas do avaliador Rodrigo para BM25: 3.890909090909091\n",
      "\n",
      "\n",
      "Média das notas do avaliador Vanessa para TF-IDF: 3.672727272727273\n",
      "Média das notas do avaliador Ramalho para TF-IDF: 3.618181818181818\n",
      "Média das notas do avaliador Rodrigo para TF-IDF: 3.4363636363636365\n",
      "\n",
      "\n",
      "Média das notas do avaliador Vanessa para Semantic: 4.4363636363636365\n"
     ]
    }
   ],
   "source": [
    "# Calcular a média das notas de cada avaliador para cada modelo\n",
    "\n",
    "lista_avaliadores_bm25 = {'Vanessa': vanessa_bm25, 'Ramalho': ramalho_bm25, 'Rodrigo': rodrigo_bm25\n",
    "                          }\n",
    "lista_avaliadores_tfidf = {'Vanessa': vanessa_Tfidf, 'Ramalho': ramalho_tfidf, 'Rodrigo': rodrigo_tfidf\n",
    "                          }\n",
    "\n",
    "lista_avaliadores_semantic = {'Vanessa': vanessa_semantic\n",
    "                          }\n",
    "\n",
    "\n",
    "for avaliador in lista_avaliadores_bm25:\n",
    "    print(f'Média das notas do avaliador {avaliador} para BM25: {lista_avaliadores_bm25[avaliador].Nota.mean()}')\n",
    "\n",
    "print('\\n')\n",
    "\n",
    "for avaliador in lista_avaliadores_tfidf:\n",
    "    print(f'Média das notas do avaliador {avaliador} para TF-IDF: {lista_avaliadores_tfidf[avaliador].Nota.mean()}')\n",
    "\n",
    "\n",
    "print('\\n')\n",
    "\n",
    "for avaliador in lista_avaliadores_semantic:\n",
    "    print(f'Média das notas do avaliador {avaliador} para Semantic: {lista_avaliadores_semantic[avaliador].Nota.mean()}')\n",
    "\n"
   ]
  },
  {
   "cell_type": "code",
   "execution_count": 81,
   "metadata": {},
   "outputs": [
    {
     "name": "stdout",
     "output_type": "stream",
     "text": [
      "Média das notas para BM25: 3.7272727272727266\n",
      "Média das notas para TF-IDF: 3.5757575757575752\n",
      "Média das notas para Semantic: 4.4363636363636365\n"
     ]
    }
   ],
   "source": [
    "# Adicionar a média das notas dos avaliador em novos dataframes\n",
    "\n",
    "# BM25\n",
    "lista_media_bm25 = []\n",
    "\n",
    "for i in range(len(vanessa_bm25)):\n",
    "    lista_media_bm25.append((vanessa_bm25.Nota[i] + ramalho_bm25.Nota[i] + rodrigo_bm25.Nota[i]) / 3)\n",
    "\n",
    "bm_25 = vanessa_bm25.copy().drop('Nota', axis=1)\n",
    "\n",
    "bm_25['Media'] = lista_media_bm25\n",
    "\n",
    "\n",
    "# TF-IDF\n",
    "lista_media_tfidf = []\n",
    "\n",
    "for i in range(len(vanessa_Tfidf)):\n",
    "    lista_media_tfidf.append((vanessa_Tfidf.Nota[i] + ramalho_tfidf.Nota[i] + rodrigo_tfidf.Nota[i]) / 3)\n",
    "\n",
    "tf_idf = vanessa_Tfidf.copy().drop('Nota', axis=1)\n",
    "\n",
    "tf_idf['Media'] = lista_media_tfidf\n",
    "\n",
    "\n",
    "# Semantic\n",
    "lista_media_semantic = []\n",
    "\n",
    "for i in range(len(vanessa_semantic)):\n",
    "    lista_media_semantic.append(vanessa_semantic.Nota[i])\n",
    "\n",
    "semantic = vanessa_semantic.copy().drop('Nota', axis=1)\n",
    "\n",
    "semantic['Media'] = lista_media_semantic\n",
    "\n",
    "print(f'Média das notas para BM25: {bm_25.Media.mean()}')\n",
    "print(f'Média das notas para TF-IDF: {tf_idf.Media.mean()}')\n",
    "print(f'Média das notas para Semantic: {semantic.Media.mean()}')\n"
   ]
  },
  {
   "cell_type": "markdown",
   "metadata": {},
   "source": [
    "### Cálculo do DCG"
   ]
  },
  {
   "cell_type": "code",
   "execution_count": 77,
   "metadata": {},
   "outputs": [
    {
     "name": "stdout",
     "output_type": "stream",
     "text": [
      "-------- Cálculo do DCG --------\n",
      "BM25\n",
      "Query: Brûlée Cream - DCG: 15.167457691487297\n",
      "Query: apple pie - DCG: 16.58155644799896\n",
      "Query: chocolate cake recipe - DCG: 16.291866365856116\n",
      "Query: fresh lemonade - DCG: 14.12932890127987\n",
      "Query: strogonoff with rice - DCG: 10.467626938578027\n",
      "Query: I'm vegan. How can I make a bolognese? - DCG: 8.5019785927806\n",
      "Query: healthy recipe for quick lunch - DCG: 16.08371576547394\n",
      "Query: how to make a pizza without an oven - DCG: 4.914098531465654\n",
      "Query: pancake without flour and milk - DCG: 6.545028285037111\n",
      "Query: pasta without eggs - DCG: 4.337290743940544\n",
      "Query: what can I make for a romantic dinner - DCG: 13.285336578488318\n",
      "Média do DCG para BM25: 2.2964597244070264\n",
      "\n",
      "\n",
      "TF-IDF\n",
      "Query: Brûlée Cream - DCG: 13.505109884816592\n",
      "Query: apple pie - DCG: 14.259295388455465\n",
      "Query: chocolate cake recipe - DCG: 16.096164364945242\n",
      "Query: fresh lemonade - DCG: 12.775640855425962\n",
      "Query: strogonoff with rice - DCG: 10.17595803860857\n",
      "Query: I'm vegan. How can I make a bolognese? - DCG: 2.9484591188793923\n",
      "Query: healthy recipe for quick lunch - DCG: 16.43285284178666\n",
      "Query: how to make a pizza without an oven - DCG: 9.247431864798987\n",
      "Query: pancake without flour and milk - DCG: 4.914098531465654\n",
      "Query: pasta without eggs - DCG: 5.210318626022307\n",
      "Query: what can I make for a romantic dinner - DCG: 16.200028668887946\n",
      "Média do DCG para TF-IDF: 2.213915603347141\n"
     ]
    }
   ],
   "source": [
    "# para cada query, calcule o DCG\n",
    "# a cada 5 linhas do dataframe, temos uma nova query, ou seja, 5 linhas para cada query\n",
    "print('-------- Cálculo do DCG --------')\n",
    "\n",
    "bm_25['DCG'] = 0\n",
    "\n",
    "for i in range(0, len(bm_25), 5):\n",
    "    bm_25.loc[i, 'DCG'] = bm_25.Media[i] / np.log2(2)\n",
    "    bm_25.loc[i+1, 'DCG'] = bm_25.Media[i+1] / np.log2(3)\n",
    "    bm_25.loc[i+2, 'DCG'] = bm_25.Media[i+2] / np.log2(4)\n",
    "    bm_25.loc[i+3, 'DCG'] = bm_25.Media[i+3] / np.log2(5)\n",
    "    bm_25.loc[i+4, 'DCG'] = bm_25.Media[i+4] / np.log2(6)\n",
    "\n",
    "\n",
    "print('BM25')\n",
    "for i in range(0, len(bm_25), 5):\n",
    "    print(f'Query: {bm_25.Query[i]} - DCG: {bm_25.DCG[i] + bm_25.DCG[i+1] + bm_25.DCG[i+2] + bm_25.DCG[i+3] + bm_25.DCG[i+4]}')\n",
    "\n",
    "print('Média do DCG para BM25:', bm_25.DCG.mean())\n",
    "\n",
    "print('\\n')\n",
    "\n",
    "tf_idf['DCG'] = 0\n",
    "\n",
    "for i in range(0, len(tf_idf), 5):\n",
    "    tf_idf.loc[i, 'DCG'] = tf_idf.Media[i] / np.log2(2)\n",
    "    tf_idf.loc[i+1, 'DCG'] = tf_idf.Media[i+1] / np.log2(3)\n",
    "    tf_idf.loc[i+2, 'DCG'] = tf_idf.Media[i+2] / np.log2(4)\n",
    "    tf_idf.loc[i+3, 'DCG'] = tf_idf.Media[i+3] / np.log2(5)\n",
    "    tf_idf.loc[i+4, 'DCG'] = tf_idf.Media[i+4] / np.log2(6)\n",
    "\n",
    "print('TF-IDF')\n",
    "for i in range(0, len(tf_idf), 5):\n",
    "    print(f'Query: {tf_idf.Query[i]} - DCG: {tf_idf.DCG[i] + tf_idf.DCG[i+1] + tf_idf.DCG[i+2] + tf_idf.DCG[i+3] + tf_idf.DCG[i+4]}')\n",
    "\n",
    "print('Média do DCG para TF-IDF:', tf_idf.DCG.mean())"
   ]
  },
  {
   "cell_type": "code",
   "execution_count": 80,
   "metadata": {},
   "outputs": [
    {
     "name": "stdout",
     "output_type": "stream",
     "text": [
      "Semantic\n",
      "Query: Brûlée Cream - DCG: 17.190754713276355\n",
      "Query: apple pie - DCG: 13.567542089986652\n",
      "Query: chocolate cake recipe - DCG: 17.690754713276355\n",
      "Query: fresh lemonade - DCG: 16.690754713276355\n",
      "Query: strogonoff with rice - DCG: 10.420637252044614\n",
      "Query: I'm vegan. How can I make a bolognese? - DCG: 13.037371922909388\n",
      "Query: healthy recipe for quick lunch - DCG: 14.297965452561982\n",
      "Query: how to make a pizza without an oven - DCG: 5.8969182377587845\n",
      "Query: pancake without flour and milk - DCG: 10.1587777449017\n",
      "Query: pasta without eggs - DCG: 11.649253138184525\n",
      "Query: what can I make for a romantic dinner - DCG: 16.42889520613344\n",
      "Média do DCG para Semantic: 2.6732659124420026\n"
     ]
    }
   ],
   "source": [
    "semantic['DCG'] = 0\n",
    "\n",
    "for i in range(0, len(semantic), 5):\n",
    "    semantic.loc[i, 'DCG'] = semantic.Media[i] / np.log2(2)\n",
    "    semantic.loc[i+1, 'DCG'] = semantic.Media[i+1] / np.log2(3)\n",
    "    semantic.loc[i+2, 'DCG'] = semantic.Media[i+2] / np.log2(4)\n",
    "    semantic.loc[i+3, 'DCG'] = semantic.Media[i+3] / np.log2(5)\n",
    "    semantic.loc[i+4, 'DCG'] = semantic.Media[i+4] / np.log2(6)\n",
    "\n",
    "print('Semantic')\n",
    "\n",
    "for i in range(0, len(semantic), 5):\n",
    "    print(f'Query: {semantic.Query[i]} - DCG: {semantic.DCG[i] + semantic.DCG[i+1] + semantic.DCG[i+2] + semantic.DCG[i+3] + semantic.DCG[i+4]}')\n",
    "\n",
    "print('Média do DCG para Semantic:', semantic.DCG.mean())\n"
   ]
  },
  {
   "cell_type": "markdown",
   "metadata": {},
   "source": [
    "### Cálculo MAP"
   ]
  },
  {
   "cell_type": "code",
   "execution_count": 78,
   "metadata": {},
   "outputs": [
    {
     "name": "stdout",
     "output_type": "stream",
     "text": [
      "---------- Cálculo do MAP ----------\n",
      "BM25\n",
      "Query: Brûlée Cream - MAP: 0.8\n",
      "Query: apple pie - MAP: 1.0\n",
      "Query: chocolate cake recipe - MAP: 1.0\n",
      "Query: fresh lemonade - MAP: 1.0\n",
      "Query: strogonoff with rice - MAP: 0.4\n",
      "Query: I'm vegan. How can I make a bolognese? - MAP: 0.2\n",
      "Query: healthy recipe for quick lunch - MAP: 1.0\n",
      "Query: how to make a pizza without an oven - MAP: 0.0\n",
      "Query: pancake without flour and milk - MAP: 0.0\n",
      "Query: pasta without eggs - MAP: 0.0\n",
      "Query: what can I make for a romantic dinner - MAP: 0.6\n",
      "Média do MAP para BM25: 0.5454545454545454\n",
      "\n",
      "\n",
      "TF-IDF\n",
      "Query: Brûlée Cream - MAP: 0.8\n",
      "Query: apple pie - MAP: 0.6\n",
      "Query: chocolate cake recipe - MAP: 1.0\n",
      "Query: fresh lemonade - MAP: 0.6\n",
      "Query: strogonoff with rice - MAP: 0.2\n",
      "Query: I'm vegan. How can I make a bolognese? - MAP: 0.0\n",
      "Query: healthy recipe for quick lunch - MAP: 1.0\n",
      "Query: how to make a pizza without an oven - MAP: 0.2\n",
      "Query: pancake without flour and milk - MAP: 0.0\n",
      "Query: pasta without eggs - MAP: 0.0\n",
      "Query: what can I make for a romantic dinner - MAP: 1.0\n",
      "Média do MAP para TF-IDF: 0.49090909090909096\n"
     ]
    }
   ],
   "source": [
    "bm_25['Relevancia'] = 0\n",
    "tf_idf['Relevancia'] = 0\n",
    "\n",
    "for i in range(len(bm_25)):\n",
    "    if bm_25.Media[i] >= 4:\n",
    "        bm_25.loc[i, 'Relevancia'] = 1\n",
    "\n",
    "for i in range(len(tf_idf)):\n",
    "    if tf_idf.Media[i] >= 4:\n",
    "        tf_idf.loc[i, 'Relevancia'] = 1\n",
    "\n",
    "print('---------- Cálculo do MAP ----------')\n",
    "print('BM25')\n",
    "\n",
    "lista_precisao_bm25 = []\n",
    "\n",
    "for i in range(0, len(bm_25), 5):\n",
    "    map = (bm_25.Relevancia[i] + bm_25.Relevancia[i+1] + bm_25.Relevancia[i+2] + bm_25.Relevancia[i+3] + bm_25.Relevancia[i+4]) / 5\n",
    "    print(f'Query: {bm_25.Query[i]} - MAP: {map}')\n",
    "    lista_precisao_bm25.append(map)\n",
    "\n",
    "print('Média do MAP para BM25:', np.mean(lista_precisao_bm25))\n",
    "\n",
    "\n",
    "print('\\n')\n",
    "\n",
    "\n",
    "print('TF-IDF')\n",
    "\n",
    "lista_precisao_tfidf = []\n",
    "for i in range(0, len(tf_idf), 5):\n",
    "    map = (tf_idf.Relevancia[i] + tf_idf.Relevancia[i+1] + tf_idf.Relevancia[i+2] + tf_idf.Relevancia[i+3] + tf_idf.Relevancia[i+4]) / 5\n",
    "    print(f'Query: {tf_idf.Query[i]} - MAP: {map}')\n",
    "    lista_precisao_tfidf.append(map)\n",
    "\n",
    "print('Média do MAP para TF-IDF:', np.mean(lista_precisao_tfidf))\n",
    "\n",
    "\n"
   ]
  }
 ],
 "metadata": {
  "kernelspec": {
   "display_name": "Python 3",
   "language": "python",
   "name": "python3"
  },
  "language_info": {
   "codemirror_mode": {
    "name": "ipython",
    "version": 3
   },
   "file_extension": ".py",
   "mimetype": "text/x-python",
   "name": "python",
   "nbconvert_exporter": "python",
   "pygments_lexer": "ipython3",
   "version": "3.10.8"
  }
 },
 "nbformat": 4,
 "nbformat_minor": 2
}
