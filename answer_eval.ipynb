{
 "cells": [
  {
   "cell_type": "markdown",
   "metadata": {},
   "source": [
    "# Trying to evaluate a recipe given a Query"
   ]
  },
  {
   "cell_type": "markdown",
   "metadata": {},
   "source": [
    "### Loading the search results and getting a sample recipe"
   ]
  },
  {
   "cell_type": "code",
   "execution_count": 41,
   "metadata": {},
   "outputs": [
    {
     "name": "stdout",
     "output_type": "stream",
     "text": [
      "Query: I'm vegan. How can I make a bolognese?\n",
      "Resulting Recipe heading: vegan bolognese\n"
     ]
    }
   ],
   "source": [
    "import pandas as pd\n",
    "\n",
    "output_path = 'output/Results_semantic.xlsx'\n",
    "\n",
    "# Load the results\n",
    "results = pd.read_excel(output_path, sheet_name=\"Sheet1\")\n",
    "\n",
    "# filtering the semantic questions\n",
    "results = results[results['Tipo'] == 'Semantica']\n",
    "\n",
    "# selecting a question\n",
    "sample_result = results.iloc[0]\n",
    "\n",
    "query, resulting_recipe = sample_result['Query'], sample_result['body']\n",
    "\n",
    "print(f\"Query: {query}\")\n",
    "print(f\"Resulting Recipe heading: {resulting_recipe.split('\\n')[0]}\")"
   ]
  },
  {
   "cell_type": "markdown",
   "metadata": {},
   "source": [
    "#### getting our gradding"
   ]
  },
  {
   "cell_type": "code",
   "execution_count": 58,
   "metadata": {},
   "outputs": [
    {
     "data": {
      "text/html": [
       "<div>\n",
       "<style scoped>\n",
       "    .dataframe tbody tr th:only-of-type {\n",
       "        vertical-align: middle;\n",
       "    }\n",
       "\n",
       "    .dataframe tbody tr th {\n",
       "        vertical-align: top;\n",
       "    }\n",
       "\n",
       "    .dataframe thead th {\n",
       "        text-align: right;\n",
       "    }\n",
       "</style>\n",
       "<table border=\"1\" class=\"dataframe\">\n",
       "  <thead>\n",
       "    <tr style=\"text-align: right;\">\n",
       "      <th></th>\n",
       "      <th>Query</th>\n",
       "      <th>body</th>\n",
       "      <th>Nota</th>\n",
       "    </tr>\n",
       "  </thead>\n",
       "  <tbody>\n",
       "    <tr>\n",
       "      <th>25</th>\n",
       "      <td>I'm vegan. How can I make a bolognese?</td>\n",
       "      <td>vegan bolognese\\n\\nRecipe posted on: 2008-02-0...</td>\n",
       "      <td>5</td>\n",
       "    </tr>\n",
       "    <tr>\n",
       "      <th>25</th>\n",
       "      <td>I'm vegan. How can I make a bolognese?</td>\n",
       "      <td>vegan bolognese\\n\\nRecipe posted on: 2008-02-0...</td>\n",
       "      <td>5</td>\n",
       "    </tr>\n",
       "    <tr>\n",
       "      <th>25</th>\n",
       "      <td>I'm vegan. How can I make a bolognese?</td>\n",
       "      <td>vegan bolognese\\n\\nRecipe posted on: 2008-02-0...</td>\n",
       "      <td>5</td>\n",
       "    </tr>\n",
       "  </tbody>\n",
       "</table>\n",
       "</div>"
      ],
      "text/plain": [
       "                                     Query  \\\n",
       "25  I'm vegan. How can I make a bolognese?   \n",
       "25  I'm vegan. How can I make a bolognese?   \n",
       "25  I'm vegan. How can I make a bolognese?   \n",
       "\n",
       "                                                 body  Nota  \n",
       "25  vegan bolognese\\n\\nRecipe posted on: 2008-02-0...     5  \n",
       "25  vegan bolognese\\n\\nRecipe posted on: 2008-02-0...     5  \n",
       "25  vegan bolognese\\n\\nRecipe posted on: 2008-02-0...     5  "
      ]
     },
     "execution_count": 58,
     "metadata": {},
     "output_type": "execute_result"
    }
   ],
   "source": [
    "our_reviews_paths = ['reviews/Results_semantic_Rodrigo.xlsx',\n",
    "                     'reviews/Results_semantic_sanches.xlsx',\n",
    "                     'reviews/Results_semantic_Vanessa.xlsx']\n",
    "\n",
    "# Load the reviews\n",
    "rod_reviews = pd.read_excel(our_reviews_paths[0], sheet_name=\"Sheet1\")\n",
    "san_reviews = pd.read_excel(our_reviews_paths[1], sheet_name=\"Sheet1\")\n",
    "van_reviews = pd.read_excel(our_reviews_paths[2], sheet_name=\"Sheet1\")\n",
    "\n",
    "# renaming cols\n",
    "rod_reviews.rename(columns={'Unnamed: 12': 'Nota'}, inplace=True)\n",
    "san_reviews.rename(columns={'nota': 'Nota'}, inplace=True)\n",
    "van_reviews.rename(columns={'Unnamed: 6': 'Nota'}, inplace=True)\n",
    "\n",
    "# concatenating the reviews and keeping only the relevant columns\n",
    "reviews = pd.concat([rod_reviews, san_reviews, van_reviews])[['Query', 'body', 'Nota']]\n",
    "\n",
    "# subtracting 1 from the ratings because its on 1-6 scale\n",
    "reviews['Nota'] = reviews['Nota'] - 1\n",
    "\n",
    "# filtering the reviews for the same question and recipe\n",
    "reviews = reviews[(reviews['Query'] == query) & (reviews['body'] == resulting_recipe)]\n",
    "reviews"
   ]
  },
  {
   "cell_type": "markdown",
   "metadata": {},
   "source": [
    "### Making prompt templates"
   ]
  },
  {
   "cell_type": "code",
   "execution_count": 42,
   "metadata": {},
   "outputs": [],
   "source": [
    "\n",
    "\n",
    "gpt_template = f\"\"\"\n",
    "You are a query result validator assistant tasked with evaluating the quality of a given recipe in answering a given query.\n",
    "\n",
    "Here is the recipe: \\\n",
    "\n",
    "{resulting_recipe}\n",
    "\n",
    "Here is the query:\\\n",
    "\n",
    "{query}\n",
    "\n",
    "Now evaluate from 0 to 5, the relevance of the recipe for answering the given query, where 0 is unrelated, 1 is poorly related, 2 is a little relevant but miss some important things, 3 is relevant but miss some restrictions, 4 is a relevant recipe that nearly matches all the possible criterias, and 5 is a perfect result, where every possible consideration and restrain included in the query is answered in the recipe. Include both your grading and a brief justificative of the grade.\n",
    "\n",
    "\n",
    "Assistant grading:\n",
    "Justificative:\n",
    "\"\"\"\n",
    "\n",
    "text_to_text_generation_template = f\"\"\"\n",
    "You are a query result validator assistant tasked with evaluating the quality of a given recipe in answering a given query.\n",
    "\n",
    "Here is the recipe: \\\n",
    "\n",
    "{resulting_recipe}\n",
    "\n",
    "Here is the query:\\\n",
    "\n",
    "{query}\n",
    "\n",
    "Now evaluate from 0 to 5, the relevance of the recipe for answering the given query, where 0 is unrelated, 1 is poorly related, 2 is a little relevant but miss some important things, 3 is relevant but miss some restrictions, 4 is a relevant recipe that nearly matches all the possible criterias, and 5 is a perfect result, where every possible consideration and restrain included in the query is answered in the recipe. Include both your grading and a brief justificative of the grade.\n",
    "\n",
    "Evaluation and justification:\n",
    "\"\"\""
   ]
  },
  {
   "cell_type": "markdown",
   "metadata": {},
   "source": [
    "### Loading a text-generation model"
   ]
  },
  {
   "cell_type": "code",
   "execution_count": 52,
   "metadata": {},
   "outputs": [
    {
     "data": {
      "application/vnd.jupyter.widget-view+json": {
       "model_id": "7514bf263ea74939a87ead921709d3ce",
       "version_major": 2,
       "version_minor": 0
      },
      "text/plain": [
       "Loading checkpoint shards:   0%|          | 0/2 [00:00<?, ?it/s]"
      ]
     },
     "metadata": {},
     "output_type": "display_data"
    }
   ],
   "source": [
    "# text generation using IvanD2002/gemma-chatbot model\n",
    "from transformers import pipeline\n",
    "\n",
    "generator = pipeline('text-generation', model='IvanD2002/gemma-chatbot')"
   ]
  },
  {
   "cell_type": "code",
   "execution_count": 43,
   "metadata": {},
   "outputs": [],
   "source": [
    "res = generator(text_to_text_generation_template, max_new_tokens=500)"
   ]
  },
  {
   "cell_type": "markdown",
   "metadata": {},
   "source": [
    "o modelo demorou 15m 11s para gerar a resposta..."
   ]
  },
  {
   "cell_type": "markdown",
   "metadata": {},
   "source": [
    "### Verificando o texto gerado"
   ]
  },
  {
   "cell_type": "code",
   "execution_count": 45,
   "metadata": {},
   "outputs": [
    {
     "name": "stdout",
     "output_type": "stream",
     "text": [
      "\n",
      "You are a query result validator assistant tasked with evaluating the quality of a given recipe in answering a given query.\n",
      "\n",
      "Here is the recipe: \n",
      "vegan bolognese\n",
      "\n",
      "Recipe posted on: 2008-02-08\n",
      "\n",
      "Tags: 30-minutes-or-less, time-to-make, course, main-ingredient, preparation, occasion, main-dish, pasta, dinner-party, vegetarian, dietary, comfort-food, pasta-rice-and-grains, spaghetti, taste-mood\n",
      "\n",
      "Description: cooking vegan for my favorite meat eater is quite an enormous challenge for me sometimes.  i noticed that lauren had ordered spaghetti bolognese the last couple times we were in italian restaurants.  this was my vegan take on an old italian favorite, and she thought it was great! i decided to use textured vegetable protein (tvp) because it absorbs the flavors of whatever you rehydrate it with.\n",
      "\n",
      "This recipe takes 30 minutes to be done.\n",
      "\n",
      "For this recipe you will need the ingredients: \n",
      "olive oil\n",
      "onion\n",
      "carrot\n",
      "garlic cloves\n",
      "basil\n",
      "oregano\n",
      "thyme\n",
      "bay leaf\n",
      "crushed red pepper flakes\n",
      "textured vegetable protein\n",
      "soy sauce\n",
      "vegetable stock\n",
      "tomato paste\n",
      "nutritional yeast\n",
      "crushed tomatoes\n",
      "fresh parsley\n",
      "whole wheat spaghetti\n",
      "\n",
      "The 18 steps to make this recipe are: \n",
      "in a large dutch oven \n",
      "heat the olive oil over medium heat\n",
      "add the chopped onions and carrots and saute for about 5 minutes \n",
      "until they begin to soften\n",
      "add a pinch of salt and pepper to taste\n",
      "\"dont add too much as you will be adding soy sauce later for color\"\n",
      "then add dry italian seasonings and crushed red pepper \n",
      "if using\n",
      "mix well and add a bit more olive oil if pan looks dry\n",
      "add minced garlic and stir until fragrant\n",
      "next add the dry tvp \n",
      "and stir to coat evenly with onion \n",
      "carrot and spice mixture\n",
      "then add the soy sauce \n",
      "which will give the tvp great flavor \n",
      "and a bit darker color\n",
      "pan will be dry \n",
      "so quickly add the cup of vegetable broth to rehydrate the tvp\n",
      "stir to coat all the tvp well \n",
      "scraping the sides of the pan if needed\n",
      "let simmer for a minute or two\n",
      "next add your can of tomato paste \n",
      "mix well and cook for a minute or two before adding the large can of crushed tomatoes\n",
      "as sauce begins to bubble \n",
      "be sure to stir in the tomato paste into the crushed tomatoes\n",
      "reduce heat to low \n",
      "and simmer while you cook pasta\n",
      "cook whole wheat pasta in a large pot f boiling salted water for 7-9 minutes \n",
      "or until al dente\n",
      "drain pasta and place in large serving bowl\n",
      "top with bolognese sauce \n",
      "chopped fresh basil or parsley and serve\n",
      "\n",
      "The mean rating for this recipe is: No reviews\n",
      "\n",
      "User reviews: \n",
      "\n",
      "\n",
      "Here is the query:\n",
      "I'm vegan. How can I make a bolognese?\n",
      "\n",
      "Now evaluate from 0 to 5, the relevance of the recipe for answering the given query, where 0 is unrelated, 1 is poorly related, 2 is a little relevant but miss some important things, 3 is relevant but miss some restrictions, 4 is a relevant recipe that nearly matches all the possible criterias, and 5 is a perfect result, where every possible consideration and restrain included in the query is answered in the recipe. Include both your grading and a brief justificative of the grade.\n",
      "\n",
      "Evaluation and justification:\n",
      "Grade: 4\n",
      "Justification: This recipe is very relevant for answering the query, as it covers all the necessary steps and considerations for making a bolognese, including the use of textured vegetable protein, the preparation of the sauce, and the addition of the pasta.\n"
     ]
    }
   ],
   "source": [
    "print(res[0]['generated_text'])"
   ]
  },
  {
   "cell_type": "code",
   "execution_count": 50,
   "metadata": {},
   "outputs": [
    {
     "name": "stdout",
     "output_type": "stream",
     "text": [
      "Given grade: 4\n",
      "Justificative: This recipe is very relevant for answering the query, as it covers all the necessary steps and considerations for making a bolognese, including the use of textured vegetable protein, the preparation of the sauce, and the addition of the pasta.\n"
     ]
    }
   ],
   "source": [
    "given_grade, justificative = res[0]['generated_text'].split('Grade:')[1].split('Justification:')\n",
    "given_grade, justificative = given_grade.strip(), justificative.strip()\n",
    "\n",
    "print(f\"Given grade: {given_grade}\")\n",
    "print(f\"Justificative: {justificative}\")"
   ]
  },
  {
   "cell_type": "markdown",
   "metadata": {},
   "source": [
    "### Testando com um modelo mais especifico e leve para question answering"
   ]
  },
  {
   "cell_type": "code",
   "execution_count": 1,
   "metadata": {},
   "outputs": [
    {
     "data": {
      "application/vnd.jupyter.widget-view+json": {
       "model_id": "6d444a699589453f87842032448fcb38",
       "version_major": 2,
       "version_minor": 0
      },
      "text/plain": [
       "config.json:   0%|          | 0.00/835 [00:00<?, ?B/s]"
      ]
     },
     "metadata": {},
     "output_type": "display_data"
    },
    {
     "name": "stderr",
     "output_type": "stream",
     "text": [
      "C:\\Users\\lucas\\AppData\\Roaming\\Python\\Python312\\site-packages\\huggingface_hub\\file_download.py:148: UserWarning: `huggingface_hub` cache-system uses symlinks by default to efficiently store duplicated files but your machine does not support them in C:\\Users\\lucas\\.cache\\huggingface\\hub\\models--deepset--tinyroberta-squad2. Caching files will still work but in a degraded version that might require more space on your disk. This warning can be disabled by setting the `HF_HUB_DISABLE_SYMLINKS_WARNING` environment variable. For more details, see https://huggingface.co/docs/huggingface_hub/how-to-cache#limitations.\n",
      "To support symlinks on Windows, you either need to activate Developer Mode or to run Python as an administrator. In order to see activate developer mode, see this article: https://docs.microsoft.com/en-us/windows/apps/get-started/enable-your-device-for-development\n",
      "  warnings.warn(message)\n"
     ]
    },
    {
     "name": "stdout",
     "output_type": "stream",
     "text": [
      "WARNING:tensorflow:From c:\\Users\\lucas\\AppData\\Local\\Programs\\Python\\Python312\\Lib\\site-packages\\tf_keras\\src\\losses.py:2976: The name tf.losses.sparse_softmax_cross_entropy is deprecated. Please use tf.compat.v1.losses.sparse_softmax_cross_entropy instead.\n",
      "\n"
     ]
    },
    {
     "data": {
      "application/vnd.jupyter.widget-view+json": {
       "model_id": "93dda948ab9340af9a2390ac269e0614",
       "version_major": 2,
       "version_minor": 0
      },
      "text/plain": [
       "model.safetensors:   0%|          | 0.00/326M [00:00<?, ?B/s]"
      ]
     },
     "metadata": {},
     "output_type": "display_data"
    },
    {
     "data": {
      "application/vnd.jupyter.widget-view+json": {
       "model_id": "432800c3135f4c2aad7344200b9f03ad",
       "version_major": 2,
       "version_minor": 0
      },
      "text/plain": [
       "tokenizer_config.json:   0%|          | 0.00/383 [00:00<?, ?B/s]"
      ]
     },
     "metadata": {},
     "output_type": "display_data"
    },
    {
     "data": {
      "application/vnd.jupyter.widget-view+json": {
       "model_id": "387fe6d8bf4542ceb76498bbea7c8fc1",
       "version_major": 2,
       "version_minor": 0
      },
      "text/plain": [
       "vocab.json:   0%|          | 0.00/798k [00:00<?, ?B/s]"
      ]
     },
     "metadata": {},
     "output_type": "display_data"
    },
    {
     "data": {
      "application/vnd.jupyter.widget-view+json": {
       "model_id": "ea67cb2b929843098d93a65754f87535",
       "version_major": 2,
       "version_minor": 0
      },
      "text/plain": [
       "merges.txt:   0%|          | 0.00/456k [00:00<?, ?B/s]"
      ]
     },
     "metadata": {},
     "output_type": "display_data"
    },
    {
     "data": {
      "application/vnd.jupyter.widget-view+json": {
       "model_id": "b4f385a69a5e416cb130ba1e7b84aa7f",
       "version_major": 2,
       "version_minor": 0
      },
      "text/plain": [
       "tokenizer.json:   0%|          | 0.00/1.36M [00:00<?, ?B/s]"
      ]
     },
     "metadata": {},
     "output_type": "display_data"
    },
    {
     "data": {
      "application/vnd.jupyter.widget-view+json": {
       "model_id": "82938cdeb3f540628ee1dc8c85e378ff",
       "version_major": 2,
       "version_minor": 0
      },
      "text/plain": [
       "special_tokens_map.json:   0%|          | 0.00/239 [00:00<?, ?B/s]"
      ]
     },
     "metadata": {},
     "output_type": "display_data"
    }
   ],
   "source": [
    "from transformers import AutoModelForQuestionAnswering, AutoTokenizer, pipeline\n",
    "\n",
    "model_name = \"deepset/tinyroberta-squad2\"\n",
    "\n",
    "nlp = pipeline('question-answering', model=model_name, tokenizer=model_name)\n"
   ]
  },
  {
   "cell_type": "code",
   "execution_count": 15,
   "metadata": {},
   "outputs": [
    {
     "data": {
      "text/plain": [
       "{'score': 6.60974208699372e-08,\n",
       " 'start': 263,\n",
       " 'end': 276,\n",
       " 'answer': 'cooking vegan'}"
      ]
     },
     "execution_count": 15,
     "metadata": {},
     "output_type": "execute_result"
    }
   ],
   "source": [
    "user_input = \"I'm vegan. How can I make a bolognese?\"\n",
    "question = f\"does the recipe include meat?\"\n",
    "\n",
    "context = resulting_recipe\n",
    "\n",
    "QA_input = {\n",
    "    'question': question,\n",
    "    'context': context\n",
    "}\n",
    "\n",
    "res = nlp(QA_input)\n",
    "\n",
    "res"
   ]
  },
  {
   "cell_type": "markdown",
   "metadata": {},
   "source": [
    "### checking the gpt prompt response"
   ]
  },
  {
   "cell_type": "code",
   "execution_count": 51,
   "metadata": {},
   "outputs": [
    {
     "name": "stdout",
     "output_type": "stream",
     "text": [
      "\n",
      "You are a query result validator assistant tasked with evaluating the quality of a given recipe in answering a given query.\n",
      "\n",
      "Here is the recipe: \n",
      "vegan bolognese\n",
      "\n",
      "Recipe posted on: 2008-02-08\n",
      "\n",
      "Tags: 30-minutes-or-less, time-to-make, course, main-ingredient, preparation, occasion, main-dish, pasta, dinner-party, vegetarian, dietary, comfort-food, pasta-rice-and-grains, spaghetti, taste-mood\n",
      "\n",
      "Description: cooking vegan for my favorite meat eater is quite an enormous challenge for me sometimes.  i noticed that lauren had ordered spaghetti bolognese the last couple times we were in italian restaurants.  this was my vegan take on an old italian favorite, and she thought it was great! i decided to use textured vegetable protein (tvp) because it absorbs the flavors of whatever you rehydrate it with.\n",
      "\n",
      "This recipe takes 30 minutes to be done.\n",
      "\n",
      "For this recipe you will need the ingredients: \n",
      "olive oil\n",
      "onion\n",
      "carrot\n",
      "garlic cloves\n",
      "basil\n",
      "oregano\n",
      "thyme\n",
      "bay leaf\n",
      "crushed red pepper flakes\n",
      "textured vegetable protein\n",
      "soy sauce\n",
      "vegetable stock\n",
      "tomato paste\n",
      "nutritional yeast\n",
      "crushed tomatoes\n",
      "fresh parsley\n",
      "whole wheat spaghetti\n",
      "\n",
      "The 18 steps to make this recipe are: \n",
      "in a large dutch oven \n",
      "heat the olive oil over medium heat\n",
      "add the chopped onions and carrots and saute for about 5 minutes \n",
      "until they begin to soften\n",
      "add a pinch of salt and pepper to taste\n",
      "\"dont add too much as you will be adding soy sauce later for color\"\n",
      "then add dry italian seasonings and crushed red pepper \n",
      "if using\n",
      "mix well and add a bit more olive oil if pan looks dry\n",
      "add minced garlic and stir until fragrant\n",
      "next add the dry tvp \n",
      "and stir to coat evenly with onion \n",
      "carrot and spice mixture\n",
      "then add the soy sauce \n",
      "which will give the tvp great flavor \n",
      "and a bit darker color\n",
      "pan will be dry \n",
      "so quickly add the cup of vegetable broth to rehydrate the tvp\n",
      "stir to coat all the tvp well \n",
      "scraping the sides of the pan if needed\n",
      "let simmer for a minute or two\n",
      "next add your can of tomato paste \n",
      "mix well and cook for a minute or two before adding the large can of crushed tomatoes\n",
      "as sauce begins to bubble \n",
      "be sure to stir in the tomato paste into the crushed tomatoes\n",
      "reduce heat to low \n",
      "and simmer while you cook pasta\n",
      "cook whole wheat pasta in a large pot f boiling salted water for 7-9 minutes \n",
      "or until al dente\n",
      "drain pasta and place in large serving bowl\n",
      "top with bolognese sauce \n",
      "chopped fresh basil or parsley and serve\n",
      "\n",
      "The mean rating for this recipe is: No reviews\n",
      "\n",
      "User reviews: \n",
      "\n",
      "\n",
      "Here is the query:\n",
      "I'm vegan. How can I make a bolognese?\n",
      "\n",
      "Now evaluate from 0 to 5, the relevance of the recipe for answering the given query, where 0 is unrelated, 1 is poorly related, 2 is a little relevant but miss some important things, 3 is relevant but miss some restrictions, 4 is a relevant recipe that nearly matches all the possible criterias, and 5 is a perfect result, where every possible consideration and restrain included in the query is answered in the recipe. Include both your grading and a brief justificative of the grade.\n",
      "\n",
      "\n",
      "Assistant grading:\n",
      "Justificative:\n",
      "\n"
     ]
    }
   ],
   "source": [
    "print(gpt_template)"
   ]
  },
  {
   "cell_type": "markdown",
   "metadata": {},
   "source": [
    "#### Resposta no chatGpt:\n",
    "\n",
    "Assistant grading: 5\n",
    "\n",
    "Justificative: The recipe is a perfect vegan Bolognese, using TVP and vegetables, addressing the query fully with relevant ingredients and instructions."
   ]
  }
 ],
 "metadata": {
  "kernelspec": {
   "display_name": "env",
   "language": "python",
   "name": "python3"
  },
  "language_info": {
   "codemirror_mode": {
    "name": "ipython",
    "version": 3
   },
   "file_extension": ".py",
   "mimetype": "text/x-python",
   "name": "python",
   "nbconvert_exporter": "python",
   "pygments_lexer": "ipython3",
   "version": "3.12.1"
  }
 },
 "nbformat": 4,
 "nbformat_minor": 2
}
