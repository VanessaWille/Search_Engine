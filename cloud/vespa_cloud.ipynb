{
 "cells": [
  {
   "cell_type": "markdown",
   "metadata": {},
   "source": [
    "# Certificados de segurança"
   ]
  },
  {
   "cell_type": "code",
   "execution_count": 2,
   "metadata": {},
   "outputs": [
    {
     "name": "stdout",
     "output_type": "stream",
     "text": [
      "\u001b[31mError:\u001b[0m private key '\u001b[36m/home/gustavo/.vespa/grupo3.findmypasta.default/data-plane-private-key.pem\u001b[0m' already exists\n",
      "\u001b[36mHint:\u001b[0m Use -f flag to force overwriting\n"
     ]
    }
   ],
   "source": [
    "import os\n",
    "\n",
    "os.environ[\"TENANT_NAME\"] = \"grupo3\"  # Replace with your tenant name\n",
    "application = \"findmypasta\"\n",
    "vespa_cli_command = (\n",
    "    f'vespa config set application {os.environ[\"TENANT_NAME\"]}.{application}'\n",
    ")\n",
    "\n",
    "!vespa config set target cloud\n",
    "!{vespa_cli_command}\n",
    "!vespa auth cert -N"
   ]
  },
  {
   "cell_type": "code",
   "execution_count": 3,
   "metadata": {},
   "outputs": [],
   "source": [
    "from os.path import exists\n",
    "from pathlib import Path\n",
    "\n",
    "cert_path = (\n",
    "    Path.home()\n",
    "    / \".vespa\"\n",
    "    / f\"{os.environ['TENANT_NAME']}.{application}.default/data-plane-public-cert.pem\"\n",
    ")\n",
    "key_path = (\n",
    "    Path.home()\n",
    "    / \".vespa\"\n",
    "    / f\"{os.environ['TENANT_NAME']}.{application}.default/data-plane-private-key.pem\"\n",
    ")\n",
    "\n",
    "if not exists(cert_path) or not exists(key_path):\n",
    "    print(\n",
    "        \"ERROR: set the correct paths to security credentials. Correct paths above and rerun until you do not see this error\"\n",
    "    )"
   ]
  },
  {
   "cell_type": "code",
   "execution_count": 4,
   "metadata": {},
   "outputs": [
    {
     "name": "stdout",
     "output_type": "stream",
     "text": [
      "\u001b[31mError:\u001b[0m refusing to overwrite '/home/gustavo/.vespa/grupo3.api-key.pem'\n",
      "\u001b[36mHint:\u001b[0m Use -f to overwrite it\n",
      "\n",
      "This is your public key:\n",
      "\u001b[32m-----BEGIN PUBLIC KEY-----\n",
      "MFkwEwYHKoZIzj0CAQYIKoZIzj0DAQcDQgAEDsrvJYitrUhT5ttt/Eps5zdjdnli\n",
      "JCZ2Me8nxkFMEn8W2eWKCZbVFtniPMlB+oqjuUd3cCZDAgI3FMzkNuhYig==\n",
      "-----END PUBLIC KEY-----\n",
      "\u001b[0m\n",
      "Its fingerprint is:\n",
      "\u001b[36m9c:df:23:36:8d:56:00:b8:9c:69:ad:20:be:13:c9:ac\u001b[0m\n",
      "\n",
      "To use this key in Vespa Cloud click 'Add custom key' at\n",
      "\u001b[36mhttps://console.vespa-cloud.com/tenant/grupo3/account/keys\u001b[0m\n",
      "and paste the entire public key including the BEGIN and END lines.\n"
     ]
    }
   ],
   "source": [
    "!vespa auth api-key\n",
    "\n",
    "from pathlib import Path\n",
    "\n",
    "api_key_path = Path.home() / \".vespa\" / f\"{os.environ['TENANT_NAME']}.api-key.pem\""
   ]
  },
  {
   "cell_type": "code",
   "execution_count": 5,
   "metadata": {},
   "outputs": [],
   "source": [
    "from vespa.package import (\n",
    "    ApplicationPackage,\n",
    "    Field,\n",
    "    Schema,\n",
    "    Document,\n",
    "    HNSW,\n",
    "    RankProfile,\n",
    "    Component,\n",
    "    Parameter,\n",
    "    FieldSet,\n",
    "    GlobalPhaseRanking,\n",
    "    Function,\n",
    ")\n",
    "\n",
    "package = ApplicationPackage(\n",
    "    name=application,\n",
    "    schema=[\n",
    "        Schema(\n",
    "            name=\"doc\",\n",
    "            document=Document(\n",
    "                fields=[\n",
    "                    Field(name=\"id\", type=\"string\", indexing=[\"summary\"]),\n",
    "                    Field(\n",
    "                        name=\"title\",\n",
    "                        type=\"string\",\n",
    "                        indexing=[\"index\", \"summary\"],\n",
    "                        index=\"enable-bm25\",\n",
    "                    ),\n",
    "                    Field(\n",
    "                        name=\"body\",\n",
    "                        type=\"string\",\n",
    "                        indexing=[\"index\", \"summary\"],\n",
    "                        index=\"enable-bm25\",\n",
    "                        bolding=True,\n",
    "                    ),\n",
    "                    Field(\n",
    "                        name=\"embedding\",\n",
    "                        type=\"tensor<float>(x[384])\",\n",
    "                        indexing=[\n",
    "                            'input title . \" \" . input body',\n",
    "                            \"embed\",\n",
    "                            \"index\",\n",
    "                            \"attribute\",\n",
    "                        ],\n",
    "                        ann=HNSW(distance_metric=\"angular\"),\n",
    "                        is_document_field=False,\n",
    "                    ),\n",
    "                ]\n",
    "            ),\n",
    "            fieldsets=[FieldSet(name=\"default\", fields=[\"title\", \"body\"])],\n",
    "            rank_profiles=[\n",
    "                RankProfile(\n",
    "                    name=\"bm25\",\n",
    "                    inputs=[(\"query(q)\", \"tensor<float>(x[384])\")],\n",
    "                    functions=[\n",
    "                        Function(name=\"bm25sum\", expression=\"bm25(title) + bm25(body)\")\n",
    "                    ],\n",
    "                    first_phase=\"bm25sum\",\n",
    "                ),\n",
    "                RankProfile(\n",
    "                    name=\"semantic\",\n",
    "                    inputs=[(\"query(q)\", \"tensor<float>(x[384])\")],\n",
    "                    first_phase=\"closeness(field, embedding)\",\n",
    "                ),\n",
    "                RankProfile(\n",
    "                    name=\"fusion\",\n",
    "                    inherits=\"bm25\",\n",
    "                    inputs=[(\"query(q)\", \"tensor<float>(x[384])\")],\n",
    "                    first_phase=\"closeness(field, embedding)\",\n",
    "                    global_phase=GlobalPhaseRanking(\n",
    "                        expression=\"reciprocal_rank_fusion(bm25sum, closeness(field, embedding))\",\n",
    "                        rerank_count=1000,\n",
    "                    ),\n",
    "                ),\n",
    "            ],\n",
    "        )\n",
    "    ],\n",
    "    components=[\n",
    "        Component(\n",
    "            id=\"e5\",\n",
    "            type=\"hugging-face-embedder\",\n",
    "            parameters=[\n",
    "                Parameter(\n",
    "                    \"transformer-model\",\n",
    "                    {\n",
    "                        \"url\": \"https://github.com/vespa-engine/sample-apps/raw/master/simple-semantic-search/model/e5-small-v2-int8.onnx\"\n",
    "                    },\n",
    "                ),\n",
    "                Parameter(\n",
    "                    \"tokenizer-model\",\n",
    "                    {\n",
    "                        \"url\": \"https://raw.githubusercontent.com/vespa-engine/sample-apps/master/simple-semantic-search/model/tokenizer.json\"\n",
    "                    },\n",
    "                ),\n",
    "            ],\n",
    "        )\n",
    "    ],\n",
    ")"
   ]
  },
  {
   "cell_type": "code",
   "execution_count": 7,
   "metadata": {},
   "outputs": [],
   "source": [
    "from vespa.deployment import VespaCloud\n",
    "\n",
    "\n",
    "def read_secret():\n",
    "    \"\"\"Read the API key from the environment variable. This is\n",
    "    only used for CI/CD purposes.\"\"\"\n",
    "    t = os.getenv(\"VESPA_TEAM_API_KEY\")\n",
    "    if t:\n",
    "        return t.replace(r\"\\n\", \"\\n\")\n",
    "    else:\n",
    "        return t\n",
    "\n",
    "\n",
    "vespa_cloud = VespaCloud(\n",
    "    tenant=os.environ[\"TENANT_NAME\"],\n",
    "    application=application,\n",
    "    key_content=read_secret() if read_secret() else None,\n",
    "    key_location=api_key_path,\n",
    "    application_package=package,\n",
    ")"
   ]
  },
  {
   "cell_type": "code",
   "execution_count": 8,
   "metadata": {},
   "outputs": [
    {
     "name": "stdout",
     "output_type": "stream",
     "text": [
      "Deployment started in run 1 of dev-aws-us-east-1c for grupo3.findmypasta. This may take a few minutes the first time.\n",
      "INFO    [17:32:43]  Deploying platform version 8.344.63 and application dev build 1 for dev-aws-us-east-1c of default ...\n",
      "INFO    [17:32:44]  Using CA signed certificate version 1\n",
      "INFO    [17:32:45]  Using 1 nodes in container cluster 'findmypasta_container'\n",
      "INFO    [17:33:37]  Session 2 for tenant 'grupo3' prepared and activated.\n",
      "INFO    [17:33:42]  ######## Details for all nodes ########\n",
      "INFO    [17:33:42]  h88969g.dev.aws-us-east-1c.vespa-external.aws.oath.cloud: expected to be UP\n",
      "INFO    [17:33:42]  --- platform vespa/cloud-tenant-rhel8:8.344.63\n",
      "INFO    [17:33:42]  --- logserver-container on port 4080 has not started \n",
      "INFO    [17:33:42]  --- metricsproxy-container on port 19092 has not started \n",
      "INFO    [17:33:42]  h88969h.dev.aws-us-east-1c.vespa-external.aws.oath.cloud: expected to be UP\n",
      "INFO    [17:33:42]  --- platform vespa/cloud-tenant-rhel8:8.344.63\n",
      "INFO    [17:33:42]  --- container-clustercontroller on port 19050 has not started \n",
      "INFO    [17:33:42]  --- metricsproxy-container on port 19092 has not started \n",
      "INFO    [17:33:42]  h93115a.dev.aws-us-east-1c.vespa-external.aws.oath.cloud: expected to be UP\n",
      "INFO    [17:33:42]  --- platform vespa/cloud-tenant-rhel8:8.344.63\n",
      "INFO    [17:33:42]  --- container on port 4080 has not started \n",
      "INFO    [17:33:42]  --- metricsproxy-container on port 19092 has not started \n",
      "INFO    [17:33:42]  h93116a.dev.aws-us-east-1c.vespa-external.aws.oath.cloud: expected to be UP\n",
      "INFO    [17:33:42]  --- platform vespa/cloud-tenant-rhel8:8.344.63\n",
      "INFO    [17:33:42]  --- storagenode on port 19102 has not started \n",
      "INFO    [17:33:42]  --- searchnode on port 19107 has not started \n",
      "INFO    [17:33:42]  --- distributor on port 19111 has not started \n",
      "INFO    [17:33:42]  --- metricsproxy-container on port 19092 has not started \n",
      "INFO    [17:34:31]  Found endpoints:\n",
      "INFO    [17:34:31]  - dev.aws-us-east-1c\n",
      "INFO    [17:34:31]   |-- https://e1ac0ee9.dcfc642d.z.vespa-app.cloud/ (cluster 'findmypasta_container')\n",
      "INFO    [17:34:32]  Deployment complete!\n",
      "Using mTLS (key,cert) Authentication against endpoint https://e1ac0ee9.dcfc642d.z.vespa-app.cloud//ApplicationStatus\n",
      "Application is up!\n",
      "Finished deployment.\n"
     ]
    }
   ],
   "source": [
    "app = vespa_cloud.deploy()"
   ]
  },
  {
   "cell_type": "code",
   "execution_count": 9,
   "metadata": {},
   "outputs": [
    {
     "data": {
      "text/plain": [
       "'https://e1ac0ee9.dcfc642d.z.vespa-app.cloud/'"
      ]
     },
     "execution_count": 9,
     "metadata": {},
     "output_type": "execute_result"
    }
   ],
   "source": [
    "endpoint = vespa_cloud.get_mtls_endpoint()\n",
    "endpoint"
   ]
  },
  {
   "cell_type": "code",
   "execution_count": 10,
   "metadata": {},
   "outputs": [
    {
     "name": "stderr",
     "output_type": "stream",
     "text": [
      "/usr/lib/python3/dist-packages/scipy/__init__.py:146: UserWarning: A NumPy version >=1.17.3 and <1.25.0 is required for this version of SciPy (detected version 1.26.1\n",
      "  warnings.warn(f\"A NumPy version >={np_minversion} and <{np_maxversion}\"\n"
     ]
    }
   ],
   "source": [
    "from datasets import load_dataset\n",
    "\n",
    "dataset = load_dataset(\"BeIR/nfcorpus\", \"corpus\", split=\"corpus\", streaming=True)\n",
    "vespa_feed = dataset.map(\n",
    "    lambda x: {\n",
    "        \"id\": x[\"_id\"],\n",
    "        \"fields\": {\"title\": x[\"title\"], \"body\": x[\"text\"], \"id\": x[\"_id\"]},\n",
    "    }\n",
    ")"
   ]
  },
  {
   "cell_type": "code",
   "execution_count": 11,
   "metadata": {},
   "outputs": [],
   "source": [
    "from vespa.io import VespaResponse, VespaQueryResponse\n",
    "\n",
    "\n",
    "def callback(response: VespaResponse, id: str):\n",
    "    if not response.is_successful():\n",
    "        print(f\"Error when feeding document {id}: {response.get_json()}\")\n",
    "\n",
    "\n",
    "app.feed_iterable(vespa_feed, schema=\"doc\", namespace=\"tutorial\", callback=callback)"
   ]
  },
  {
   "cell_type": "code",
   "execution_count": 12,
   "metadata": {},
   "outputs": [],
   "source": [
    "import pandas as pd\n",
    "\n",
    "\n",
    "def display_hits_as_df(response: VespaQueryResponse, fields) -> pd.DataFrame:\n",
    "    records = []\n",
    "    for hit in response.hits:\n",
    "        record = {}\n",
    "        for field in fields:\n",
    "            record[field] = hit[\"fields\"][field]\n",
    "        records.append(record)\n",
    "    return pd.DataFrame(records)"
   ]
  },
  {
   "cell_type": "code",
   "execution_count": 13,
   "metadata": {},
   "outputs": [
    {
     "name": "stdout",
     "output_type": "stream",
     "text": [
      "         id                                              title\n",
      "0  MED-2450  Protective effect of fruits, vegetables and th...\n",
      "1  MED-2464  Low vegetable intake is associated with allerg...\n",
      "2  MED-1162  Pesticide residues in imported, organic, and \"...\n",
      "3  MED-2461  The association of diet with respiratory sympt...\n",
      "4  MED-2085  Antiplatelet, anticoagulant, and fibrinolytic ...\n"
     ]
    }
   ],
   "source": [
    "with app.syncio(connections=1) as session:\n",
    "    query = \"How Fruits and Vegetables Can Treat Asthma?\"\n",
    "    response: VespaQueryResponse = session.query(\n",
    "        yql=\"select * from sources * where userQuery() limit 5\",\n",
    "        query=query,\n",
    "        ranking=\"bm25\",\n",
    "    )\n",
    "    assert response.is_successful()\n",
    "    print(display_hits_as_df(response, [\"id\", \"title\"]))"
   ]
  }
 ],
 "metadata": {
  "kernelspec": {
   "display_name": "Python 3",
   "language": "python",
   "name": "python3"
  },
  "language_info": {
   "codemirror_mode": {
    "name": "ipython",
    "version": 3
   },
   "file_extension": ".py",
   "mimetype": "text/x-python",
   "name": "python",
   "nbconvert_exporter": "python",
   "pygments_lexer": "ipython3",
   "version": "3.10.12"
  }
 },
 "nbformat": 4,
 "nbformat_minor": 2
}
