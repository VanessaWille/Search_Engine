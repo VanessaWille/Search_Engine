{
  "cells": [
    {
      "cell_type": "markdown",
      "metadata": {
        "id": "b02n_zJ_hl3d"
      },
      "source": [
        "## Ollama on Colab"
      ]
    },
    {
      "cell_type": "markdown",
      "metadata": {
        "id": "pso9t86qLHbX"
      },
      "source": [
        "Notebook construido com a referencia:\n",
        "\n",
        "https://medium.com/@neohob/run-ollama-locally-using-google-colabs-free-gpu-49543e0def31"
      ]
    },
    {
      "cell_type": "code",
      "execution_count": null,
      "metadata": {
        "id": "co-f5rRwDHbT"
      },
      "outputs": [],
      "source": [
        "!curl -fsSL https://ollama.com/install.sh | sh\n",
        "!pip -q install aiohttp python-dotenv ngrok\n",
        "\n",
        "import os\n",
        "import asyncio\n",
        "from google.colab import userdata\n",
        "from IPython.display import display, clear_output\n",
        "from dotenv import load_dotenv\n",
        "import ipywidgets as widgets\n",
        "import ngrok"
      ]
    },
    {
      "cell_type": "code",
      "execution_count": null,
      "metadata": {
        "id": "IZRTYiPiEEf7"
      },
      "outputs": [],
      "source": [
        "# !nvidia-smi"
      ]
    },
    {
      "cell_type": "code",
      "execution_count": null,
      "metadata": {
        "id": "xcVu6Ws0FhhX"
      },
      "outputs": [],
      "source": [
        "!curl -s https://ngrok-agent.s3.amazonaws.com/ngrok.asc \\\n",
        "\t| sudo tee /etc/apt/trusted.gpg.d/ngrok.asc >/dev/null \\\n",
        "\t&& echo \"deb https://ngrok-agent.s3.amazonaws.com buster main\" \\\n",
        "\t| sudo tee /etc/apt/sources.list.d/ngrok.list \\\n",
        "\t&& sudo apt update \\\n",
        "\t&& sudo apt install ngrok\n",
        "\n",
        "# print(\"Proceed to cuda drivers installation, this may take a while...\")\n",
        "# !echo 'debconf debconf/frontend select Noninteractive' | sudo debconf-set-selections\n",
        "# !sudo apt-get update && sudo apt-get install -y cuda-drivers\n",
        "\n",
        "clear_output()\n",
        "print(\"Setup done!\")\n"
      ]
    },
    {
      "cell_type": "code",
      "execution_count": null,
      "metadata": {
        "id": "7WLS-muwGGUd"
      },
      "outputs": [],
      "source": [
        "# Verify ngrok installation\n",
        "!which ngrok\n"
      ]
    },
    {
      "cell_type": "markdown",
      "source": [
        "Se ouver um arquivo .env com as configurações, elas serão pegas dele, senão o input deve ser feito."
      ],
      "metadata": {
        "id": "x_sZ2cKqUk5K"
      }
    },
    {
      "cell_type": "code",
      "source": [
        "# Load environment variables from .env file\n",
        "load_dotenv()\n",
        "\n",
        "# Retrieve the NGROK_AUTH_TOKEN from environment variables\n",
        "ngrok_auth_token = os.getenv('NGROK_AUTH_TOKEN')\n",
        "\n",
        "# Check if the token is available, otherwise ask the user\n",
        "if not ngrok_auth_token:\n",
        "    token_input = input(\"Enter your ngrok auth token: \")\n",
        "    ngrok_auth_token = token_input"
      ],
      "metadata": {
        "id": "Axe_B9xENLEy"
      },
      "execution_count": null,
      "outputs": []
    },
    {
      "cell_type": "code",
      "source": [
        "# Configure ngrok with the auth token\n",
        "!ngrok config add-authtoken {ngrok_auth_token}\n",
        "ngrok.set_auth_token(ngrok_auth_token)"
      ],
      "metadata": {
        "id": "55LPuOunNRLx"
      },
      "execution_count": null,
      "outputs": []
    },
    {
      "cell_type": "code",
      "execution_count": null,
      "metadata": {
        "id": "aPxSrXprGMm5"
      },
      "outputs": [],
      "source": [
        "import os\n",
        "import subprocess\n",
        "import time\n",
        "\n",
        "# Set LD_LIBRARY_PATH so the system NVIDIA library\n",
        "os.environ.update({'LD_LIBRARY_PATH': '/usr/lib64-nvidia'})\n",
        "\n",
        "# Run processes in the background\n",
        "ollama_process = subprocess.Popen(['ollama', 'serve'])\n",
        "\n",
        "# Display output to confirm processes started\n",
        "print(\" > ollama process started\")\n"
      ]
    },
    {
      "cell_type": "markdown",
      "source": [
        "O modelo a ser utilizado:"
      ],
      "metadata": {
        "id": "lT9zvNsOU5az"
      }
    },
    {
      "cell_type": "code",
      "source": [
        "llm_model = \"llama3\""
      ],
      "metadata": {
        "id": "W-s8eFvBU3kZ"
      },
      "execution_count": null,
      "outputs": []
    },
    {
      "cell_type": "code",
      "source": [
        "print(\"starting the download of the model, this may take a while...\")\n",
        "time.sleep(10) # wait 10s to give the process a time to start\n",
        "!ollama pull {llm_model}\n",
        "\n",
        "clear_output()\n",
        "print(f\"{llm_model} model downloaded\")"
      ],
      "metadata": {
        "id": "LrCL9L7F6Rpf"
      },
      "execution_count": null,
      "outputs": []
    },
    {
      "cell_type": "code",
      "execution_count": null,
      "metadata": {
        "id": "R_PsC-xdgli-"
      },
      "outputs": [],
      "source": [
        "# avaliable models at the api right now\n",
        "!ollama list"
      ]
    },
    {
      "cell_type": "markdown",
      "source": [
        "Making a endpoint to use the Ollama API from outside the colab"
      ],
      "metadata": {
        "id": "W5mjP7LLVNt6"
      }
    },
    {
      "cell_type": "code",
      "source": [
        "ngrok_domain = os.getenv('NGROK_DOMAIN')\n",
        "\n",
        "if not ngrok_domain:\n",
        "    domain_input = input(\"Enter your ngrok domain (empty for none): \")\n",
        "    ngrok_domain = domain_input"
      ],
      "metadata": {
        "id": "P_wbHlxZPHpV"
      },
      "execution_count": null,
      "outputs": []
    },
    {
      "cell_type": "code",
      "source": [
        "if ngrok_domain and ngrok_domain != \"\":\n",
        "  listener = ngrok.forward(11434,\n",
        "    logs=\"stdout\",\n",
        "    domain=ngrok_domain,\n",
        "    authtoken_from_env=True,\n",
        "    request_header_add=\"host:localhost\",\n",
        "    )\n",
        "else:\n",
        "  listener = ngrok.connect(11434,\n",
        "                           logs=\"stdout\",\n",
        "                           authtoken_from_env=True,\n",
        "                           request_header_add=\"host:localhost\",\n",
        "                           )\n",
        "\n",
        "ngrok_connection = await listener\n",
        "url = ngrok_connection.url()\n",
        "print(f\"Connection URL: {url}\")"
      ],
      "metadata": {
        "id": "8ovnDHw0cSsy"
      },
      "execution_count": null,
      "outputs": []
    },
    {
      "cell_type": "markdown",
      "source": [
        "starting the model"
      ],
      "metadata": {
        "id": "kHq8joyDbyjv"
      }
    },
    {
      "cell_type": "code",
      "source": [
        "llm_process = subprocess.Popen(['ollama', 'run', llm_model])"
      ],
      "metadata": {
        "id": "8ISlZh2VURnZ"
      },
      "execution_count": null,
      "outputs": []
    },
    {
      "cell_type": "code",
      "source": [
        "!curl http://localhost:11434"
      ],
      "metadata": {
        "id": "5AY_1dRbvutl"
      },
      "execution_count": null,
      "outputs": []
    },
    {
      "cell_type": "code",
      "source": [
        "input(\"Finalizar conexão ngrok\")\n",
        "await ngrok_connection.close()"
      ],
      "metadata": {
        "id": "EyVfOl6wbMxO"
      },
      "execution_count": null,
      "outputs": []
    }
  ],
  "metadata": {
    "accelerator": "GPU",
    "colab": {
      "gpuType": "T4",
      "provenance": []
    },
    "kernelspec": {
      "display_name": "Python 3",
      "name": "python3"
    },
    "language_info": {
      "codemirror_mode": {
        "name": "ipython",
        "version": 3
      },
      "file_extension": ".py",
      "mimetype": "text/x-python",
      "name": "python",
      "nbconvert_exporter": "python",
      "pygments_lexer": "ipython3",
      "version": "3.10.9"
    }
  },
  "nbformat": 4,
  "nbformat_minor": 0
}