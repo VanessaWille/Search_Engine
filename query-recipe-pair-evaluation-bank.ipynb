{
 "cells": [
  {
   "cell_type": "markdown",
   "metadata": {},
   "source": [
    "### Storing the query-recipe pairs that were already evaluated as a reference\n",
    "\n",
    "The ideia is save into a \"dictionary\" the evaluations of recipes return for a specific query, so that a new model can have the performance on the same set of queries easily compared with the previous ones since most of the answers will be the same."
   ]
  },
  {
   "cell_type": "code",
   "execution_count": 6,
   "metadata": {},
   "outputs": [
    {
     "data": {
      "text/html": [
       "<div>\n",
       "<style scoped>\n",
       "    .dataframe tbody tr th:only-of-type {\n",
       "        vertical-align: middle;\n",
       "    }\n",
       "\n",
       "    .dataframe tbody tr th {\n",
       "        vertical-align: top;\n",
       "    }\n",
       "\n",
       "    .dataframe thead th {\n",
       "        text-align: right;\n",
       "    }\n",
       "</style>\n",
       "<table border=\"1\" class=\"dataframe\">\n",
       "  <thead>\n",
       "    <tr style=\"text-align: right;\">\n",
       "      <th></th>\n",
       "      <th>Query</th>\n",
       "      <th>title</th>\n",
       "      <th>body</th>\n",
       "      <th>average rating</th>\n",
       "      <th>std</th>\n",
       "      <th>gpt_template</th>\n",
       "      <th>Nota</th>\n",
       "    </tr>\n",
       "  </thead>\n",
       "  <tbody>\n",
       "    <tr>\n",
       "      <th>0</th>\n",
       "      <td>Brûlée Cream</td>\n",
       "      <td>coffee brandy cream brulee</td>\n",
       "      <td>coffee brandy cream brulee\\n\\nRecipe posted on...</td>\n",
       "      <td>4.000000</td>\n",
       "      <td>0.00000</td>\n",
       "      <td>\\n        You are a query result validator ass...</td>\n",
       "      <td>4</td>\n",
       "    </tr>\n",
       "    <tr>\n",
       "      <th>1</th>\n",
       "      <td>Brûlée Cream</td>\n",
       "      <td>creme brulee for two</td>\n",
       "      <td>creme brulee for two\\n\\nRecipe posted on: 2008...</td>\n",
       "      <td>5.000000</td>\n",
       "      <td>0.00000</td>\n",
       "      <td>\\n        You are a query result validator ass...</td>\n",
       "      <td>5</td>\n",
       "    </tr>\n",
       "    <tr>\n",
       "      <th>2</th>\n",
       "      <td>Brûlée Cream</td>\n",
       "      <td>easy creme brulee</td>\n",
       "      <td>easy creme brulee\\n\\nRecipe posted on: 2005-11...</td>\n",
       "      <td>5.000000</td>\n",
       "      <td>0.00000</td>\n",
       "      <td>\\n        You are a query result validator ass...</td>\n",
       "      <td>5</td>\n",
       "    </tr>\n",
       "    <tr>\n",
       "      <th>3</th>\n",
       "      <td>Brûlée Cream</td>\n",
       "      <td>lavender creme brulee</td>\n",
       "      <td>lavender creme brulee\\n\\nRecipe posted on: 200...</td>\n",
       "      <td>4.666667</td>\n",
       "      <td>0.57735</td>\n",
       "      <td>\\n        You are a query result validator ass...</td>\n",
       "      <td>5</td>\n",
       "    </tr>\n",
       "    <tr>\n",
       "      <th>4</th>\n",
       "      <td>Brûlée Cream</td>\n",
       "      <td>no fail creme brulee</td>\n",
       "      <td>no fail creme brulee\\n\\nRecipe posted on: 2010...</td>\n",
       "      <td>5.000000</td>\n",
       "      <td>0.00000</td>\n",
       "      <td>\\n        You are a query result validator ass...</td>\n",
       "      <td>5</td>\n",
       "    </tr>\n",
       "  </tbody>\n",
       "</table>\n",
       "</div>"
      ],
      "text/plain": [
       "          Query                       title  \\\n",
       "0  Brûlée Cream  coffee brandy cream brulee   \n",
       "1  Brûlée Cream        creme brulee for two   \n",
       "2  Brûlée Cream           easy creme brulee   \n",
       "3  Brûlée Cream       lavender creme brulee   \n",
       "4  Brûlée Cream        no fail creme brulee   \n",
       "\n",
       "                                                body  average rating      std  \\\n",
       "0  coffee brandy cream brulee\\n\\nRecipe posted on...        4.000000  0.00000   \n",
       "1  creme brulee for two\\n\\nRecipe posted on: 2008...        5.000000  0.00000   \n",
       "2  easy creme brulee\\n\\nRecipe posted on: 2005-11...        5.000000  0.00000   \n",
       "3  lavender creme brulee\\n\\nRecipe posted on: 200...        4.666667  0.57735   \n",
       "4  no fail creme brulee\\n\\nRecipe posted on: 2010...        5.000000  0.00000   \n",
       "\n",
       "                                        gpt_template  Nota  \n",
       "0  \\n        You are a query result validator ass...     4  \n",
       "1  \\n        You are a query result validator ass...     5  \n",
       "2  \\n        You are a query result validator ass...     5  \n",
       "3  \\n        You are a query result validator ass...     5  \n",
       "4  \\n        You are a query result validator ass...     5  "
      ]
     },
     "execution_count": 6,
     "metadata": {},
     "output_type": "execute_result"
    }
   ],
   "source": [
    "import pandas as pd\n",
    "\n",
    "# getting all the query-recipe pairs from previous evaluations\n",
    "average_ratings = pd.read_excel('output/average_ratings_semantic.xlsx')\n",
    "\n",
    "# creating a column Nota with the rounded average rating\n",
    "average_ratings['Nota'] = average_ratings['average rating'].round().astype(int)\n",
    "\n",
    "average_ratings.head()"
   ]
  },
  {
   "cell_type": "markdown",
   "metadata": {},
   "source": [
    "## Exporting the evaluations to a \"review bank\""
   ]
  },
  {
   "cell_type": "code",
   "execution_count": 8,
   "metadata": {},
   "outputs": [
    {
     "data": {
      "text/html": [
       "<div>\n",
       "<style scoped>\n",
       "    .dataframe tbody tr th:only-of-type {\n",
       "        vertical-align: middle;\n",
       "    }\n",
       "\n",
       "    .dataframe tbody tr th {\n",
       "        vertical-align: top;\n",
       "    }\n",
       "\n",
       "    .dataframe thead th {\n",
       "        text-align: right;\n",
       "    }\n",
       "</style>\n",
       "<table border=\"1\" class=\"dataframe\">\n",
       "  <thead>\n",
       "    <tr style=\"text-align: right;\">\n",
       "      <th></th>\n",
       "      <th>Query</th>\n",
       "      <th>Receita</th>\n",
       "      <th>Nota</th>\n",
       "    </tr>\n",
       "  </thead>\n",
       "  <tbody>\n",
       "    <tr>\n",
       "      <th>0</th>\n",
       "      <td>Brûlée Cream</td>\n",
       "      <td>coffee brandy cream brulee</td>\n",
       "      <td>4</td>\n",
       "    </tr>\n",
       "    <tr>\n",
       "      <th>1</th>\n",
       "      <td>Brûlée Cream</td>\n",
       "      <td>creme brulee for two</td>\n",
       "      <td>5</td>\n",
       "    </tr>\n",
       "    <tr>\n",
       "      <th>2</th>\n",
       "      <td>Brûlée Cream</td>\n",
       "      <td>easy creme brulee</td>\n",
       "      <td>5</td>\n",
       "    </tr>\n",
       "    <tr>\n",
       "      <th>3</th>\n",
       "      <td>Brûlée Cream</td>\n",
       "      <td>lavender creme brulee</td>\n",
       "      <td>5</td>\n",
       "    </tr>\n",
       "    <tr>\n",
       "      <th>4</th>\n",
       "      <td>Brûlée Cream</td>\n",
       "      <td>no fail creme brulee</td>\n",
       "      <td>5</td>\n",
       "    </tr>\n",
       "  </tbody>\n",
       "</table>\n",
       "</div>"
      ],
      "text/plain": [
       "          Query                     Receita  Nota\n",
       "0  Brûlée Cream  coffee brandy cream brulee     4\n",
       "1  Brûlée Cream        creme brulee for two     5\n",
       "2  Brûlée Cream           easy creme brulee     5\n",
       "3  Brûlée Cream       lavender creme brulee     5\n",
       "4  Brûlée Cream        no fail creme brulee     5"
      ]
     },
     "execution_count": 8,
     "metadata": {},
     "output_type": "execute_result"
    }
   ],
   "source": [
    "# saving the dataframe to a new excel file\n",
    "review_bank = average_ratings[[\"Query\", \"title\", \"Nota\"]].copy()\n",
    "review_bank.rename(columns={'title': 'Receita'}, inplace=True)\n",
    "\n",
    "review_bank.to_excel('reviews/review_bank.xlsx', index=False)\n",
    "\n",
    "review_bank.head()"
   ]
  },
  {
   "cell_type": "markdown",
   "metadata": {},
   "source": [
    "Now for every new evaluation, we can just add the new ratings to this file, and for the new searches we can just filter the recipes that are not in this file to evaluate them.\n",
    "\n",
    "When the recipes are already on this file, we immediatly have the evaluation."
   ]
  },
  {
   "cell_type": "code",
   "execution_count": 17,
   "metadata": {},
   "outputs": [
    {
     "name": "stdout",
     "output_type": "stream",
     "text": [
      "The rating of the recipe 'creme brulee for two' for the query 'Brûlée Cream' is 5.\n",
      "The recipe 'creme brulee for two' for the query 'Lasangna' was not found in the review bank.\n"
     ]
    }
   ],
   "source": [
    "review_bank = pd.read_excel('reviews/review_bank.xlsx')\n",
    "\n",
    "def lookup_rating(query, recipe):\n",
    "    try:\n",
    "        rating = review_bank[(review_bank['Query'] == query) & (review_bank['Receita'] == recipe)][\"Nota\"].values[0]\n",
    "        print(f\"The rating of the recipe '{recipe}' for the query '{query}' is {rating}.\")\t\n",
    "    except:\n",
    "        print(f\"The recipe '{recipe}' for the query '{query}' was not found in the review bank.\")\n",
    "\n",
    "query = \"Brûlée Cream\"\n",
    "recipe = \"creme brulee for two\"\n",
    "\n",
    "# checking if the query-recipe pair is in the review bank\n",
    "lookup_rating(query, recipe)\n",
    "\n",
    "query = \"Lasangna\"\n",
    "recipe = \"creme brulee for two\"\n",
    "\n",
    "# checking if the query-recipe pair is in the review bank\n",
    "lookup_rating(query, recipe)"
   ]
  }
 ],
 "metadata": {
  "kernelspec": {
   "display_name": "Python 3",
   "language": "python",
   "name": "python3"
  },
  "language_info": {
   "codemirror_mode": {
    "name": "ipython",
    "version": 3
   },
   "file_extension": ".py",
   "mimetype": "text/x-python",
   "name": "python",
   "nbconvert_exporter": "python",
   "pygments_lexer": "ipython3",
   "version": "3.12.1"
  }
 },
 "nbformat": 4,
 "nbformat_minor": 2
}
