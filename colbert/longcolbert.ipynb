{
 "cells": [
  {
   "cell_type": "markdown",
   "metadata": {},
   "source": [
    "# Long Context Colbert\n",
    "\n",
    "Vamos criar uma aplicação do Vespa com Long Context Colbert, como pode ser visto [neste exemplo](https://pyvespa.readthedocs.io/en/latest/examples/chat_with_your_pdfs_using_colbert_langchain_and_Vespa-cloud.html)."
   ]
  },
  {
   "cell_type": "markdown",
   "metadata": {},
   "source": [
    "## Imports\n",
    "\n",
    "Primeiro, vamos importar as bibliotecas necessárias para criar pacotes do Vespa."
   ]
  },
  {
   "cell_type": "code",
   "execution_count": 4,
   "metadata": {},
   "outputs": [],
   "source": [
    "from vespa.package import (\n",
    "    ApplicationPackage,\n",
    "    Component,\n",
    "    Parameter,\n",
    "    Field,\n",
    "    HNSW,\n",
    "    RankProfile,\n",
    "    Function,\n",
    "    FirstPhaseRanking,\n",
    "    SecondPhaseRanking,\n",
    "    FieldSet,\n",
    "    DocumentSummary,\n",
    "    Summary,\n",
    ")\n",
    "from pathlib import Path\n",
    "import json\n",
    "import pandas as pd\n",
    "import ast\n",
    "import numpy as np\n",
    "\n",
    "from vespa.package import Schema, Document, Field, FieldSet"
   ]
  },
  {
   "cell_type": "markdown",
   "metadata": {},
   "source": [
    "Vamos verificar se o Vespa está instalado:"
   ]
  },
  {
   "cell_type": "code",
   "execution_count": 5,
   "metadata": {},
   "outputs": [
    {
     "name": "stderr",
     "output_type": "stream",
     "text": [
      "Usage:\n",
      "  vespa [flags]\n",
      "  vespa [command]\n",
      "\n",
      "Available Commands:\n",
      "  activate    Activate (deploy) a previously prepared application package\n",
      "  auth        Manage Vespa Cloud credentials\n",
      "  clone       Create files and directory structure from a Vespa sample application\n",
      "  completion  Generate the autocompletion script for the specified shell\n",
      "  config      Manage persistent values for global flags\n",
      "  curl        Access Vespa directly using curl\n",
      "  deploy      Deploy (prepare and activate) an application package\n",
      "  destroy     Remove a deployed Vespa application and its data\n",
      "  document    Issue a single document operation to Vespa\n",
      "  feed        Feed multiple document operations to Vespa\n",
      "  fetch       Download a deployed application package\n",
      "  help        Help about any command\n",
      "  log         Show the Vespa log\n",
      "  prepare     Prepare an application package for activation\n",
      "  prod        Deploy an application package to production in Vespa Cloud\n",
      "  query       Issue a query to Vespa\n",
      "  status      Show Vespa endpoints and status\n",
      "  test        Run a test suite, or a single test\n",
      "  version     Show current CLI version and check for updates\n",
      "  visit       Retrieve and print all documents from Vespa\n",
      "\n",
      "Flags:\n",
      "  -a, --application string   The application to use (cloud only)\n",
      "  -C, --cluster string       The container cluster to use. This is only required for applications with multiple clusters\n",
      "  -c, --color string         Whether to use colors in output. Must be \"auto\", \"never\", or \"always\" (default \"auto\")\n",
      "  -h, --help                 help for vespa\n",
      "  -i, --instance string      The instance of the application to use (cloud only)\n",
      "  -q, --quiet                Print only errors\n",
      "  -t, --target string        The target platform to use. Must be \"local\", \"cloud\", \"hosted\" or an URL (default \"local\")\n",
      "  -z, --zone string          The zone to use. This defaults to a dev zone (cloud only)\n",
      "\n",
      "Use \"vespa [command] --help\" for more information about a command.\n",
      "\n",
      "Error: unknown flag: --version\n"
     ]
    }
   ],
   "source": [
    "!vespa --version"
   ]
  },
  {
   "cell_type": "markdown",
   "metadata": {},
   "source": [
    "## Criação do aplicativo Vespa"
   ]
  },
  {
   "cell_type": "markdown",
   "metadata": {},
   "source": [
    "Vamos criar o pacote do aplicativo Vespa, com os componentes `e5` e `colbert`:"
   ]
  },
  {
   "cell_type": "code",
   "execution_count": 6,
   "metadata": {},
   "outputs": [],
   "source": [
    "from vespa.package import ApplicationPackage, Component, Parameter\n",
    "\n",
    "vespa_app_name = \"findmypasta\"\n",
    "app_package = ApplicationPackage(\n",
    "    name=vespa_app_name,\n",
    "    components=[\n",
    "        Component(\n",
    "            id=\"e5\",\n",
    "            type=\"hugging-face-embedder\",\n",
    "            parameters=[\n",
    "                Parameter(\n",
    "                    name=\"transformer-model\",\n",
    "                    args={\n",
    "                        \"url\": \"https://huggingface.co/intfloat/e5-small-v2/resolve/main/model.onnx\"\n",
    "                    },\n",
    "                ),\n",
    "                Parameter(\n",
    "                    name=\"tokenizer-model\",\n",
    "                    args={\n",
    "                        \"url\": \"https://huggingface.co/intfloat/e5-small-v2/raw/main/tokenizer.json\"\n",
    "                    },\n",
    "                ),\n",
    "            ],\n",
    "        ),\n",
    "        Component(\n",
    "            id=\"colbert\",\n",
    "            type=\"colbert-embedder\",\n",
    "            parameters=[\n",
    "                Parameter(\n",
    "                    name=\"transformer-model\",\n",
    "                    args={\n",
    "                        \"url\": \"https://huggingface.co/colbert-ir/colbertv2.0/resolve/main/model.onnx\"\n",
    "                    },\n",
    "                ),\n",
    "                Parameter(\n",
    "                    name=\"tokenizer-model\",\n",
    "                    args={\n",
    "                        \"url\": \"https://huggingface.co/colbert-ir/colbertv2.0/raw/main/tokenizer.json\"\n",
    "                    },\n",
    "                ),\n",
    "            ],\n",
    "        ),\n",
    "    ],\n",
    ")"
   ]
  },
  {
   "cell_type": "markdown",
   "metadata": {},
   "source": [
    "Vamos criar o *Schema* com os campos da nossa receita, o `embedding` e o `colbert`:"
   ]
  },
  {
   "cell_type": "code",
   "execution_count": 7,
   "metadata": {},
   "outputs": [],
   "source": [
    "app_package.schema.add_fields(Field(name=\"id\", type=\"int\", indexing=[\"attribute\", \"summary\"]),\n",
    "    Field(\n",
    "        name=\"title\", type=\"string\", indexing=[\"index\", \"summary\"], index=\"enable-bm25\"\n",
    "    ),\n",
    "    Field(\n",
    "        name=\"description\", type=\"string\", indexing=[\"index\", \"summary\"], index=\"enable-bm25\"\n",
    "    ),\n",
    "    Field(\n",
    "        name=\"minutes\",\n",
    "        type=\"string\",\n",
    "        indexing=[\"summary\"],\n",
    "    ),\n",
    "    Field(\n",
    "        name=\"n_steps\",\n",
    "        type=\"string\",\n",
    "        indexing=[\"attribute\", \"summary\"],\n",
    "    ),\n",
    "    Field(\n",
    "        name=\"n_ingredients\",\n",
    "        type=\"string\",\n",
    "        indexing=[\"attribute\", \"summary\"],\n",
    "    ),\n",
    "    Field(\n",
    "        name=\"submitted\",\n",
    "        type=\"string\",\n",
    "        indexing=[\"attribute\", \"summary\"],\n",
    "    ),\n",
    "    Field(\n",
    "        name=\"body\",\n",
    "        type=\"string\", \n",
    "        indexing=[\"index\", \"summary\"],\n",
    "        index=\"enable-bm25\",\n",
    "        bolding=True\n",
    "    ),\n",
    "    Field(\n",
    "        name = \"body_split\",\n",
    "        type = \"array<string>\",\n",
    "        indexing = [\"index\", \"summary\"],\n",
    "        index = \"enable-bm25\",\n",
    "        bolding = True,\n",
    "    ),\n",
    "    Field(\n",
    "        name=\"tags\",\n",
    "        type=\"array<string>\",\n",
    "        indexing=[\"index\", \"summary\"],\n",
    "        index=\"enable-bm25\",\n",
    "        bolding=True,\n",
    "    ),\n",
    "    Field(\n",
    "        name=\"steps\",\n",
    "        type=\"array<string>\",\n",
    "        indexing=[\"index\", \"summary\"],\n",
    "        index=\"enable-bm25\",\n",
    "        bolding=True,\n",
    "    ),\n",
    "    Field(\n",
    "        name=\"ingredients\",\n",
    "        type=\"array<string>\",\n",
    "        indexing=[\"index\", \"summary\"],\n",
    "        index=\"enable-bm25\",\n",
    "        bolding=True,\n",
    "    ),\n",
    "    #Field(\n",
    "    #    name=\"colbert\",\n",
    "    #    type=\"tensor<int8>(token{},v[16])\",\n",
    "    #    indexing=[\"attribute\", \"summary\", \"index\"],\n",
    "    #    attribute=[\"distance-metric:hamming\"],\n",
    "    #)\n",
    "    Field(\n",
    "    name=\"embedding\",\n",
    "    type=\"tensor<bfloat16>(body_split{}, x[384])\",\n",
    "    indexing=[\n",
    "        \"input body_split\",\n",
    "        'for_each { (input title || \"\") . \" \" . ( _ || \"\") }',\n",
    "        \"embed e5\",\n",
    "        \"attribute\",\n",
    "    ],\n",
    "    attribute=[\"distance-metric: angular\"],\n",
    "    is_document_field=False,\n",
    "    ),\n",
    "    Field(\n",
    "        name=\"colbert\",\n",
    "        type=\"tensor<int8>(body_split{}, token{}, v[16])\",\n",
    "        indexing=[\"input body_split\", \"embed colbert body_split\", \"attribute\"],\n",
    "        is_document_field=False,\n",
    "    )\n",
    ")\n",
    "    "
   ]
  },
  {
   "cell_type": "markdown",
   "metadata": {},
   "source": [
    "Vamos criar o *RankProfile* com o [Colbert Context-Level](https://blog.vespa.ai/announcing-long-context-colbert-in-vespa/):"
   ]
  },
  {
   "cell_type": "code",
   "execution_count": 8,
   "metadata": {},
   "outputs": [],
   "source": [
    "colbert = RankProfile(\n",
    "    name=\"colbert_context_level\",\n",
    "    inputs=[\n",
    "        (\"query(q)\", \"tensor<float>(x[384])\"),\n",
    "        (\"query(qt)\", \"tensor<float>(querytoken{}, v[128])\"),\n",
    "    ],\n",
    "    functions=[\n",
    "        Function(name=\"cos_sim\", expression=\"closeness(field, embedding)\"),\n",
    "        Function(\n",
    "            name=\"max_sim_per_context\",\n",
    "            expression=\"\"\"\n",
    "                sum(\n",
    "                    reduce(\n",
    "                        sum(\n",
    "                            query(qt) * unpack_bits(attribute(colbert)) , v\n",
    "                        ),\n",
    "                        max, token\n",
    "                    ),\n",
    "                    querytoken\n",
    "                )\n",
    "            \"\"\",\n",
    "        ),\n",
    "        Function(\n",
    "            name=\"max_sim\", expression=\"reduce(max_sim_per_context, max, body_split)\"\n",
    "            \n",
    "        ),\n",
    "    ],\n",
    "    first_phase=FirstPhaseRanking(expression=\"cos_sim\"),\n",
    "    second_phase=SecondPhaseRanking(expression=\"max_sim\"),\n",
    "    match_features=[\"cos_sim\", \"max_sim\", \"max_sim_per_context\"],\n",
    ")\n",
    "app_package.schema.add_rank_profile(colbert)"
   ]
  },
  {
   "cell_type": "code",
   "execution_count": 9,
   "metadata": {},
   "outputs": [],
   "source": [
    "\n",
    "#Path(\"pkg\").mkdir(parents=True, exist_ok=True)\n",
    "#app_package.to_files(\"pkg\")"
   ]
  },
  {
   "cell_type": "code",
   "execution_count": 10,
   "metadata": {},
   "outputs": [],
   "source": [
    "\n",
    "#! mkdir -p pkg/model\n",
    "#! curl -L -o pkg/model/tokenizer.json \\\n",
    "#  https://huggingface.co/colbert-ir/colbertv2.0/raw/main/tokenizer.json\n",
    "\n",
    "#! curl -L -o pkg/model/model.onnx \\\n",
    "#  https://huggingface.co/colbert-ir/colbertv2.0/resolve/main/model.onnx"
   ]
  },
  {
   "cell_type": "markdown",
   "metadata": {},
   "source": [
    "Vamos realizar o *deploy* do pacote do Vespa pelo Docker:"
   ]
  },
  {
   "cell_type": "code",
   "execution_count": 11,
   "metadata": {},
   "outputs": [
    {
     "name": "stdout",
     "output_type": "stream",
     "text": [
      "Waiting for configuration server, 0/300 seconds...\n",
      "Waiting for configuration server, 5/300 seconds...\n",
      "Waiting for configuration server, 10/300 seconds...\n",
      "Waiting for configuration server, 15/300 seconds...\n",
      "Using plain http against endpoint http://localhost:8080/ApplicationStatus\n",
      "Waiting for application status, 0/300 seconds...\n",
      "Using plain http against endpoint http://localhost:8080/ApplicationStatus\n",
      "Waiting for application status, 5/300 seconds...\n",
      "Using plain http against endpoint http://localhost:8080/ApplicationStatus\n",
      "Waiting for application status, 10/300 seconds...\n",
      "Using plain http against endpoint http://localhost:8080/ApplicationStatus\n",
      "Waiting for application status, 15/300 seconds...\n",
      "Using plain http against endpoint http://localhost:8080/ApplicationStatus\n",
      "Waiting for application status, 20/300 seconds...\n",
      "Using plain http against endpoint http://localhost:8080/ApplicationStatus\n",
      "Waiting for application status, 25/300 seconds...\n",
      "Using plain http against endpoint http://localhost:8080/ApplicationStatus\n",
      "Waiting for application status, 30/300 seconds...\n",
      "Using plain http against endpoint http://localhost:8080/ApplicationStatus\n",
      "Waiting for application status, 35/300 seconds...\n",
      "Using plain http against endpoint http://localhost:8080/ApplicationStatus\n",
      "Waiting for application status, 40/300 seconds...\n",
      "Using plain http against endpoint http://localhost:8080/ApplicationStatus\n",
      "Waiting for application status, 45/300 seconds...\n",
      "Using plain http against endpoint http://localhost:8080/ApplicationStatus\n",
      "Waiting for application status, 50/300 seconds...\n",
      "Using plain http against endpoint http://localhost:8080/ApplicationStatus\n",
      "Waiting for application status, 55/300 seconds...\n",
      "Using plain http against endpoint http://localhost:8080/ApplicationStatus\n",
      "Waiting for application status, 60/300 seconds...\n",
      "Using plain http against endpoint http://localhost:8080/ApplicationStatus\n",
      "Waiting for application status, 65/300 seconds...\n",
      "Using plain http against endpoint http://localhost:8080/ApplicationStatus\n",
      "Waiting for application status, 70/300 seconds...\n",
      "Using plain http against endpoint http://localhost:8080/ApplicationStatus\n",
      "Waiting for application status, 75/300 seconds...\n",
      "Using plain http against endpoint http://localhost:8080/ApplicationStatus\n",
      "Waiting for application status, 80/300 seconds...\n",
      "Using plain http against endpoint http://localhost:8080/ApplicationStatus\n",
      "Waiting for application status, 85/300 seconds...\n",
      "Using plain http against endpoint http://localhost:8080/ApplicationStatus\n",
      "Waiting for application status, 90/300 seconds...\n",
      "Using plain http against endpoint http://localhost:8080/ApplicationStatus\n",
      "Waiting for application status, 95/300 seconds...\n",
      "Using plain http against endpoint http://localhost:8080/ApplicationStatus\n",
      "Waiting for application status, 100/300 seconds...\n",
      "Using plain http against endpoint http://localhost:8080/ApplicationStatus\n",
      "Waiting for application status, 105/300 seconds...\n",
      "Using plain http against endpoint http://localhost:8080/ApplicationStatus\n",
      "Waiting for application status, 110/300 seconds...\n",
      "Using plain http against endpoint http://localhost:8080/ApplicationStatus\n",
      "Waiting for application status, 115/300 seconds...\n",
      "Using plain http against endpoint http://localhost:8080/ApplicationStatus\n",
      "Waiting for application status, 120/300 seconds...\n",
      "Using plain http against endpoint http://localhost:8080/ApplicationStatus\n",
      "Waiting for application status, 125/300 seconds...\n",
      "Using plain http against endpoint http://localhost:8080/ApplicationStatus\n",
      "Waiting for application status, 130/300 seconds...\n",
      "Using plain http against endpoint http://localhost:8080/ApplicationStatus\n",
      "Waiting for application status, 135/300 seconds...\n",
      "Using plain http against endpoint http://localhost:8080/ApplicationStatus\n",
      "Waiting for application status, 140/300 seconds...\n",
      "Using plain http against endpoint http://localhost:8080/ApplicationStatus\n",
      "Waiting for application status, 145/300 seconds...\n",
      "Using plain http against endpoint http://localhost:8080/ApplicationStatus\n",
      "Waiting for application status, 150/300 seconds...\n",
      "Using plain http against endpoint http://localhost:8080/ApplicationStatus\n",
      "Waiting for application status, 155/300 seconds...\n",
      "Using plain http against endpoint http://localhost:8080/ApplicationStatus\n",
      "Waiting for application status, 160/300 seconds...\n",
      "Using plain http against endpoint http://localhost:8080/ApplicationStatus\n",
      "Waiting for application status, 165/300 seconds...\n",
      "Using plain http against endpoint http://localhost:8080/ApplicationStatus\n",
      "Waiting for application status, 170/300 seconds...\n",
      "Using plain http against endpoint http://localhost:8080/ApplicationStatus\n",
      "Waiting for application status, 175/300 seconds...\n",
      "Using plain http against endpoint http://localhost:8080/ApplicationStatus\n",
      "Application is up!\n",
      "Finished deployment.\n"
     ]
    }
   ],
   "source": [
    "from vespa.deployment import VespaDocker\n",
    "\n",
    "#vespa_docker = VespaDocker()\n",
    "#app = vespa_docker.deploy_from_disk(application_name=\"findmypasta\", application_root=\"pkg\")\n",
    "\n",
    "vespa_docker = VespaDocker()\n",
    "app = vespa_docker.deploy(application_package=app_package)"
   ]
  },
  {
   "cell_type": "markdown",
   "metadata": {},
   "source": [
    "## Fornecendo dados"
   ]
  },
  {
   "cell_type": "markdown",
   "metadata": {},
   "source": [
    "Vamos criar uma função que cria o campo `body`:"
   ]
  },
  {
   "cell_type": "code",
   "execution_count": 12,
   "metadata": {},
   "outputs": [],
   "source": [
    "def recipe_file_body_lines(recipe, complementary_data = None):\n",
    "    \"\"\"\n",
    "    Function responsible for creating the recipe body.\n",
    "    \"\"\"\n",
    "    # Transformar as colunas de strings para listas\n",
    "    recipe['tags'] = recipe['tags'].strip(\"[]\").replace(\"'\", \"\").split(', ')\n",
    "    recipe['steps'] = recipe['steps'].strip(\"[]\").replace(\"'\", \"\").split(', ')\n",
    "    recipe['ingredients'] = recipe['ingredients'].strip(\"[]\").replace(\"'\", \"\").split(', ')\n",
    "\n",
    "    # reviews = complementary_data[complementary_data['recipe_id'] == recipe['id']]\n",
    "\n",
    "    # # ordering by descending date\n",
    "    # reviews = reviews.sort_values('date', ascending=False)\n",
    "\n",
    "    # # getting the average rating\n",
    "    # avg_rating = reviews['rating'].mean()\n",
    "\n",
    "    # # if the average rating is NaN, we will set it to \"No reviews\"\n",
    "    # if np.isnan(avg_rating):\n",
    "    #     avg_rating = \"No reviews\"\n",
    "\n",
    "    # creating the recipe body\n",
    "    recipe_body = recipe['name'] + '\\n' \\\n",
    "    + \"Recipe posted on: \" + str(recipe['submitted']) + '\\n' \\\n",
    "    + \"Tags: \" + ', '.join(recipe['tags']) + '\\n' \\\n",
    "    + \"Description: \" + recipe['description'] + '\\n' \\\n",
    "    + \"This recipe takes \" + str(recipe['minutes']) + \" minutes to be done.\" + '\\n' \\\n",
    "    + \"For this recipe you will need the ingredients: \" + '\\n' \\\n",
    "    + ', '.join(recipe['ingredients']) + '\\n' \\\n",
    "    + \"The \" + str(recipe[\"n_steps\"]) + \" steps to make this recipe are: \" + '\\n' \\\n",
    "    + ', '.join(recipe['steps']) \n",
    "    return recipe_body"
   ]
  },
  {
   "cell_type": "code",
   "execution_count": 13,
   "metadata": {},
   "outputs": [],
   "source": [
    "# Função para aplicar recipe_file_body_lines a cada linha do DataFrame de receitas\n",
    "def apply_recipe_file_body_lines(recipe_row):\n",
    "    return recipe_file_body_lines(recipe_row)"
   ]
  },
  {
   "cell_type": "markdown",
   "metadata": {},
   "source": [
    "Agora, pegamos os dados presentes no dataset `../input/RAW_recipes.csv`, definimos os campos que serão enviados e formatamos para o formato do Vespa:"
   ]
  },
  {
   "cell_type": "code",
   "execution_count": 14,
   "metadata": {},
   "outputs": [
    {
     "name": "stdout",
     "output_type": "stream",
     "text": [
      "Index(['name', 'id', 'minutes', 'contributor_id', 'submitted', 'tags',\n",
      "       'nutrition', 'n_steps', 'steps', 'description', 'ingredients',\n",
      "       'n_ingredients'],\n",
      "      dtype='object')\n",
      "{'put': 'id:recipes:findmypasta::137739', 'fields': {'id': 137739, 'title': 'arriba   baked winter squash mexican style', 'tags': ['60-minutes-or-less', 'time-to-make', 'course', 'main-ingredient', 'cuisine', 'preparation', 'occasion', 'north-american', 'side-dishes', 'vegetables', 'mexican', 'easy', 'fall', 'holiday-event', 'vegetarian', 'winter', 'dietary', 'christmas', 'seasonal', 'squash'], 'steps': ['make a choice and proceed with recipe', 'depending on size of squash , cut into half or fourths', 'remove seeds', 'for spicy squash , drizzle olive oil or melted butter over each cut squash piece', 'season with mexican seasoning mix ii', 'for sweet squash , drizzle melted honey , butter , grated piloncillo over each cut squash piece', 'season with sweet mexican spice mix', 'bake at 350 degrees , again depending on size , for 40 minutes up to an hour , until a fork can easily pierce the skin', 'be careful not to burn the squash especially if you opt to use sugar or butter', 'if you feel more comfortable , cover the squash with aluminum foil the first half hour , give or take , of baking', 'if desired , season with salt'], 'description': 'autumn is my favorite time of year to cook! this recipe \\r\\ncan be prepared either spicy or sweet, your choice!\\r\\ntwo of my posted mexican-inspired seasoning mix recipes are offered as suggestions.', 'ingredients': ['winter squash', 'mexican seasoning', 'mixed spice', 'honey', 'butter', 'olive oil', 'salt'], 'minutes': 'This recipe takes 55 minutes to be done.', 'n_steps': 'Number of steps to make this recipe: 11', 'n_ingredients': 'Number of ingredients: 7', 'submitted': 'Recipe submitted on: 2005-09-16', 'body': 'arriba   baked winter squash mexican style\\nRecipe posted on: 2005-09-16\\nTags: 60-minutes-or-less, time-to-make, course, main-ingredient, cuisine, preparation, occasion, north-american, side-dishes, vegetables, mexican, easy, fall, holiday-event, vegetarian, winter, dietary, christmas, seasonal, squash\\nDescription: autumn is my favorite time of year to cook! this recipe \\r\\ncan be prepared either spicy or sweet, your choice!\\r\\ntwo of my posted mexican-inspired seasoning mix recipes are offered as suggestions.\\nThis recipe takes 55 minutes to be done.\\nFor this recipe you will need the ingredients: \\nwinter squash, mexican seasoning, mixed spice, honey, butter, olive oil, salt\\nThe 11 steps to make this recipe are: \\nmake a choice and proceed with recipe, depending on size of squash , cut into half or fourths, remove seeds, for spicy squash , drizzle olive oil or melted butter over each cut squash piece, season with mexican seasoning mix ii, for sweet squash , drizzle melted honey , butter , grated piloncillo over each cut squash piece, season with sweet mexican spice mix, bake at 350 degrees , again depending on size , for 40 minutes up to an hour , until a fork can easily pierce the skin, be careful not to burn the squash especially if you opt to use sugar or butter, if you feel more comfortable , cover the squash with aluminum foil the first half hour , give or take , of baking, if desired , season with salt', 'body_split': ['arriba   baked winter squash mexican style', 'Recipe posted on: 2005-09-16', 'Tags: 60-minutes-or-less, time-to-make, course, main-ingredient, cuisine, preparation, occasion, north-american, side-dishes, vegetables, mexican, easy, fall, holiday-event, vegetarian, winter, dietary, christmas, seasonal, squash', 'Description: autumn is my favorite time of year to cook! this recipe \\r', 'can be prepared either spicy or sweet, your choice!\\r', 'two of my posted mexican-inspired seasoning mix recipes are offered as suggestions.', 'This recipe takes 55 minutes to be done.', 'For this recipe you will need the ingredients: ', 'winter squash, mexican seasoning, mixed spice, honey, butter, olive oil, salt', 'The 11 steps to make this recipe are: ', 'make a choice and proceed with recipe, depending on size of squash , cut into half or fourths, remove seeds, for spicy squash , drizzle olive oil or melted butter over each cut squash piece, season with mexican seasoning mix ii, for sweet squash , drizzle melted honey , butter , grated piloncillo over each cut squash piece, season with sweet mexican spice mix, bake at 350 degrees , again depending on size , for 40 minutes up to an hour , until a fork can easily pierce the skin, be careful not to burn the squash especially if you opt to use sugar or butter, if you feel more comfortable , cover the squash with aluminum foil the first half hour , give or take , of baking, if desired , season with salt']}}\n"
     ]
    }
   ],
   "source": [
    "df = pd.read_csv('../input/RAW_recipes.csv')\n",
    "###\n",
    "##\n",
    "\n",
    "# print columns\n",
    "print(df.columns)\n",
    "df = df.dropna()\n",
    "df = df.reset_index(drop=True)\n",
    "\n",
    "df['body'] = df.apply(apply_recipe_file_body_lines, axis=1)\n",
    "df['body_split'] = df['body'].str.split('\\n')\n",
    "\n",
    "df['minutes'] = \"This recipe takes \" + df['minutes'].astype(str) + \" minutes to be done.\"\n",
    "df['submitted'] = 'Recipe submitted on: ' + df[\"submitted\"]\n",
    "df['tags'] = df[\"tags\"]\n",
    "df['n_steps'] = 'Number of steps to make this recipe: ' + df['n_steps'].astype(str)\n",
    "df['n_ingredients'] = 'Number of ingredients: ' + df['n_ingredients'].astype(str)\n",
    "df['steps'] = df[\"steps\"]\n",
    "df['description'] = df[\"description\"]\n",
    "df['ingredients'] = df[\"ingredients\"]\n",
    "df['title'] = df['name']\n",
    "\n",
    "namespace = \"recipes\"\n",
    "document_type = \"findmypasta\"\n",
    "\n",
    "def to_vespa_format(x):\n",
    "    document_id = f\"id:{namespace}:{document_type}::{x['id']}\"\n",
    "    return {\n",
    "        \"put\": document_id,\n",
    "        \"fields\": {\n",
    "            \"id\": x[\"id\"],\n",
    "            \"title\": x[\"name\"],\n",
    "            \"tags\": ast.literal_eval(x[\"tags\"]),\n",
    "            \"steps\": ast.literal_eval(x[\"steps\"]),\n",
    "            \"description\": x[\"description\"],\n",
    "            \"ingredients\": ast.literal_eval(x[\"ingredients\"]),\n",
    "            \"minutes\": x[\"minutes\"],\n",
    "            \"n_steps\": x[\"n_steps\"],\n",
    "            \"n_ingredients\": x[\"n_ingredients\"],\n",
    "            \"submitted\": x[\"submitted\"],\n",
    "            \"body\": x[\"body\"],\n",
    "            \"body_split\": x[\"body_split\"]\n",
    "        }\n",
    "    }\n",
    "\n",
    "vespa_feed = df.apply(to_vespa_format, axis=1).tolist()\n",
    "vespa_feed_slice = vespa_feed[0:1000]\n",
    "print(vespa_feed_slice[0])"
   ]
  },
  {
   "cell_type": "markdown",
   "metadata": {},
   "source": [
    "Cria o json com os campos formatados:"
   ]
  },
  {
   "cell_type": "code",
   "execution_count": 15,
   "metadata": {},
   "outputs": [],
   "source": [
    "with open(\"vespa_feed2.jsonl\", \"w\") as f:\n",
    "    for item in vespa_feed_slice:\n",
    "        f.write(json.dumps(item) + \"\\n\")"
   ]
  },
  {
   "cell_type": "markdown",
   "metadata": {},
   "source": [
    "Alimenta o Vespa com os documentos:"
   ]
  },
  {
   "cell_type": "code",
   "execution_count": 16,
   "metadata": {},
   "outputs": [
    {
     "name": "stdout",
     "output_type": "stream",
     "text": [
      "{\n",
      "  \"feeder.operation.count\": 1000,\n",
      "  \"feeder.seconds\": 750.249,\n",
      "  \"feeder.ok.count\": 1000,\n",
      "  \"feeder.ok.rate\": 1.333,\n",
      "  \"feeder.error.count\": 0,\n",
      "  \"feeder.inflight.count\": 0,\n",
      "  \"http.request.count\": 1000,\n",
      "  \"http.request.bytes\": 1032492,\n",
      "  \"http.request.MBps\": 0.001,\n",
      "  \"http.exception.count\": 0,\n",
      "  \"http.response.count\": 1000,\n",
      "  \"http.response.bytes\": 95492,\n",
      "  \"http.response.MBps\": 0.000,\n",
      "  \"http.response.error.count\": 0,\n",
      "  \"http.response.latency.millis.min\": 4615,\n",
      "  \"http.response.latency.millis.avg\": 14070,\n",
      "  \"http.response.latency.millis.max\": 38188,\n",
      "  \"http.response.code.counts\": {\n",
      "    \"200\": 1000\n",
      "  }\n",
      "}\n"
     ]
    }
   ],
   "source": [
    "! vespa config set target local\n",
    "! vespa feed vespa_feed2.jsonl"
   ]
  },
  {
   "cell_type": "code",
   "execution_count": 17,
   "metadata": {},
   "outputs": [
    {
     "data": {
      "text/plain": [
       "1000"
      ]
     },
     "execution_count": 17,
     "metadata": {},
     "output_type": "execute_result"
    }
   ],
   "source": [
    "documents = app.query(yql = \"select * from sources * where true\")\n",
    "documents.number_documents_indexed"
   ]
  },
  {
   "cell_type": "markdown",
   "metadata": {},
   "source": [
    "## Queries\n",
    "\n",
    "Vamos pegar as queries que serão feitas, presentes no dataset `../input/Recipe_Search_Questions.xlsx`:"
   ]
  },
  {
   "cell_type": "code",
   "execution_count": 18,
   "metadata": {},
   "outputs": [
    {
     "data": {
      "text/html": [
       "<div>\n",
       "<style scoped>\n",
       "    .dataframe tbody tr th:only-of-type {\n",
       "        vertical-align: middle;\n",
       "    }\n",
       "\n",
       "    .dataframe tbody tr th {\n",
       "        vertical-align: top;\n",
       "    }\n",
       "\n",
       "    .dataframe thead th {\n",
       "        text-align: right;\n",
       "    }\n",
       "</style>\n",
       "<table border=\"1\" class=\"dataframe\">\n",
       "  <thead>\n",
       "    <tr style=\"text-align: right;\">\n",
       "      <th></th>\n",
       "      <th>Tipo</th>\n",
       "      <th>Descrição</th>\n",
       "      <th>Query</th>\n",
       "    </tr>\n",
       "  </thead>\n",
       "  <tbody>\n",
       "    <tr>\n",
       "      <th>0</th>\n",
       "      <td>Keywords</td>\n",
       "      <td>Pergunta simples</td>\n",
       "      <td>grilled cheese sandwich recipe</td>\n",
       "    </tr>\n",
       "    <tr>\n",
       "      <th>1</th>\n",
       "      <td>Keywords</td>\n",
       "      <td>Pergunta simples</td>\n",
       "      <td>mango smoothie</td>\n",
       "    </tr>\n",
       "    <tr>\n",
       "      <th>2</th>\n",
       "      <td>Semantica</td>\n",
       "      <td>Pergunta média</td>\n",
       "      <td>gluten-free bread without yeast</td>\n",
       "    </tr>\n",
       "    <tr>\n",
       "      <th>3</th>\n",
       "      <td>Semantica</td>\n",
       "      <td>Pergunta média</td>\n",
       "      <td>low carb dessert for diabetics</td>\n",
       "    </tr>\n",
       "    <tr>\n",
       "      <th>4</th>\n",
       "      <td>Semantica</td>\n",
       "      <td>Pergunta difícil</td>\n",
       "      <td>traditional Japanese breakfast for a family</td>\n",
       "    </tr>\n",
       "  </tbody>\n",
       "</table>\n",
       "</div>"
      ],
      "text/plain": [
       "        Tipo         Descrição                                        Query\n",
       "0   Keywords  Pergunta simples               grilled cheese sandwich recipe\n",
       "1   Keywords  Pergunta simples                               mango smoothie\n",
       "2  Semantica    Pergunta média              gluten-free bread without yeast\n",
       "3  Semantica    Pergunta média               low carb dessert for diabetics\n",
       "4  Semantica  Pergunta difícil  traditional Japanese breakfast for a family"
      ]
     },
     "execution_count": 18,
     "metadata": {},
     "output_type": "execute_result"
    }
   ],
   "source": [
    "# loading the Questions.xlsx and answering each question query\n",
    "import pandas as pd\n",
    "questions = pd.read_excel('../input/Questions.xlsx')\n",
    "questions = pd.read_excel('../input/Recipe_Search_Questions.xlsx')\n",
    "questions.head()"
   ]
  },
  {
   "cell_type": "markdown",
   "metadata": {},
   "source": [
    "Geramos o arquivo de output com as respostas para cada *query*:"
   ]
  },
  {
   "cell_type": "code",
   "execution_count": 19,
   "metadata": {},
   "outputs": [],
   "source": [
    "from vespa.io import VespaQueryResponse\n",
    "import json\n",
    "\n",
    "# Supondo que 'questions' é um DataFrame com colunas ['Query', 'Tipo', 'Descrição']\n",
    "data = pd.DataFrame(columns=['id', 'title', 'Query', 'Tipo', 'Descrição'])\n",
    "\n",
    "model_to_ranking_dict = {\n",
    "    \"colbert\": \"colbert\",\n",
    "}\n",
    "\n",
    "selected_model = \"colbert\"\n",
    "\n",
    "assert selected_model in model_to_ranking_dict.keys()\n",
    "\n",
    "output_name = 'output/Results_' + selected_model + '_extraQuestions' + '.xlsx'\n",
    "\n",
    "if model_to_ranking_dict[selected_model] is not None:\n",
    "    i = 0\n",
    "    for input_query in questions['Query']:\n",
    "        # save a checkpoint each 100 queries\n",
    "        if i % 100 == 0:\n",
    "            data.to_excel(output_name, index=False)\n",
    "\n",
    "        with app.syncio(connections=1) as session:\n",
    "            try:\n",
    "                response: VespaQueryResponse = session.query(\n",
    "                    yql=\"select * from sources * where ({targetHits:1000}nearestNeighbor(embedding,q)) limit 5\",\n",
    "                    query=input_query,\n",
    "                    ranking=\"colbert_context_level\",\n",
    "                    body={\n",
    "                        \"input.query(q)\": f\"embed(e5, \\\"{input_query}\\\")\",\n",
    "                        \"input.query(qt)\": f\"embed(colbert, \\\"{input_query}\\\")\",\n",
    "                        # \"input.query(q)\": f\"embed({input_query})\",\n",
    "                        #\"timeout\": \"30s\"  # Aumentar o tempo limite para 10 segundos\n",
    "                    }\n",
    "                )\n",
    "                assert response.is_successful()\n",
    "            except Exception as e:\n",
    "                print(f\"Error with query '{input_query}': {e}\")\n",
    "                continue\n",
    "\n",
    "            for hit in response.hits:\n",
    "                record = {}\n",
    "                for field in ['id', 'title']:\n",
    "                    record[field] = hit['fields'].get(field, None)\n",
    "                record[\"Query\"] = input_query\n",
    "                record[\"Tipo\"] = questions[questions['Query'] == input_query]['Tipo'].values[0]\n",
    "                record[\"Descrição\"] = questions[questions['Query'] == input_query]['Descrição'].values[0]\n",
    "                data = pd.concat([data, pd.DataFrame([record])], ignore_index=True)\n",
    "\n",
    "        i += 1\n",
    "\n",
    "    # Sorting\n",
    "    data = data.sort_values(by=['Tipo', 'Query'])\n",
    "\n",
    "    # reordering columns\n",
    "    data = data[['Tipo', 'Descrição', 'Query', 'id', 'title']]\n",
    "\n",
    "    # exporting to excel\n",
    "    data.to_excel(output_name, index=False)\n"
   ]
  },
  {
   "cell_type": "markdown",
   "metadata": {},
   "source": [
    "Respostas para a query `chocolate`:"
   ]
  },
  {
   "cell_type": "code",
   "execution_count": 20,
   "metadata": {},
   "outputs": [
    {
     "name": "stdout",
     "output_type": "stream",
     "text": [
      "{'id': 406331, 'title': 'healthified  decadent hot chocolate', 'body': 'healthified  decadent hot chocolate\\nRecipe posted on: 2010-01-02\\nTags: weeknight, 15-minutes-or-less, time-to-make, course, main-ingredient, preparation, occasion, healthy, beverages, easy, beginner-cook, fall, low-fat, chocolate, dietary, gifts, low-sodium, low-cholesterol, seasonal, low-calorie, comfort-food, inexpensive, healthy-2, low-in-something, taste-mood, presentation, served-hot, 3-steps-or-less\\nDescription: a recipe from tablespoon.com that makes a healthier version of hot chocolate. 50% fewer calories, 77% less fat and 20% more calcium than the original recipe.\\nThis recipe takes 15 minutes to be done.\\nFor this recipe you will need the ingredients: \\nsugar, unsweetened baking cocoa, nonfat milk, fat-free half-and-half, semi-sweet chocolate chips, vanilla\\nThe 6 steps to make this recipe are: \\nmix together the sugar and cocoa in a 2-quart saucepan, stir in the skim milk and half and half until well blended and cook until heated, do not bring to a boil, remove pan from heat, whisk in chocolate chips and stir until chips are melted and the milk mixture is smooth, stir in vanilla and pour into 4 mugs to serve'}\n",
      "{'id': 81280, 'title': 'those  chocolate cookies', 'body': 'those  chocolate cookies\\nRecipe posted on: 2004-01-16\\nTags: time-to-make, course, main-ingredient, preparation, drop-cookies, desserts, eggs-dairy, oven, finger-food, kid-friendly, cookies-and-brownies, chocolate, eggs, dietary, low-sodium, low-in-something, equipment, number-of-servings, presentation, 4-hours-or-less\\nDescription: my dh lovingly refers to these as \"those\" chocolate cookies, and without saying, i know which ones he is talking about. i call them chocolate pills. they cure just about anything that ails me. recipe by ann hodgman.\\nThis recipe takes 85 minutes to be done.\\nFor this recipe you will need the ingredients: \\nunsweetened chocolate, semisweet chocolate, unsalted butter, all-purpose flour, baking powder, salt, eggs, sugar, instant espresso powder, vanilla extract, semi-sweet chocolate chips, parchment paper\\nThe 16 steps to make this recipe are: \\nplace a metal bowl over a saucepan of barely simmering water and add the first three ingredients, cook over low heat , stirring , until they are almost melted , then remove from heat, continue to stir until they have all melted and the mixture is smooth, mix together the flour , baking powder and salt in a small bowl, in another large bowl , beat together the eggs and sugar , using a mixer , for approximately 10 minutes, add the espresso power if using , also the vanilla , and beat for 2 additional minutes, stir in the melted chocolate until it is evenly mixed , then add the flour / baking powder / salt mixture, when that is smooth , fold in the chocolate chips, refrigerate the batter for 20-25 minutes, meanwhile , preheat the oven to 350f, line your cookie sheets with parchment paper, drop chilled batter by heaping tablespoonfuls onto the parchment lined cookie sheets about 2-inches apart, bake cookies , one baking sheet at a time , for approximately 8-10 minutes, when done , cookies may appear cracked and shiny on top, allow cookies to rest for a few minutes , the place on a cookie rack to complete cooling, store any cooking you are not eating right away in the freezer or refrigerator , not the cookie jar'}\n",
      "{'id': 70005, 'title': 'sun dried   tomatoes', 'body': 'sun dried   tomatoes\\nRecipe posted on: 2003-08-28\\nTags: weeknight, time-to-make, course, main-ingredient, preparation, occasion, healthy, condiments-etc, vegetables, oven, low-fat, summer, dietary, low-sodium, gluten-free, low-cholesterol, seasonal, low-saturated-fat, low-calorie, high-calcium, healthy-2, free-of-something, high-in-something, low-in-something, tomatoes, equipment, number-of-servings\\nDescription: these are almost as good as chocolate ...\\nThis recipe takes 250 minutes to be done.\\nFor this recipe you will need the ingredients: \\ntomatoes, olive oil, garlic cloves, fresh basil, fresh oregano, salt and pepper\\nThe 10 steps to make this recipe are: \\ncore the stem area out from each tomato, cut each tomato in half crosswise, take each tomato half in hand- with the cut-side out- and give it a quick , gentle squeeze to force out the seeds, use a finger to sweep remaining seeds out, place each tomato , cut-side up , on a cookie sheet, spray or drizzle olive oil across the top of each tomato half, sprinkle garlic , basil , oregano across the tomatoes, season with salt and pepper to taste, bake in a 200f oven for 4-6 hours or until the tomatoes are\"dry\" to the touch, when they are cool , cut each tomato half in quarters and store in fridge-- or start nibbling immediately'}\n",
      "{'id': 134086, 'title': 'jello  chocolate pudding pops', 'body': 'jello  chocolate pudding pops\\nRecipe posted on: 2005-08-20\\nTags: time-to-make, course, main-ingredient, cuisine, preparation, occasion, north-american, low-protein, healthy, 5-ingredients-or-less, desserts, american, easy, no-cook, beginner-cook, kid-friendly, summer, frozen-desserts, puddings-and-mousses, chocolate, freezer, dietary, low-cholesterol, seasonal, inexpensive, toddler-friendly, low-in-something, equipment, technique\\nDescription: yum, so easy! needs to freeze. feel free to mix and match flavors!\\nThis recipe takes 423 minutes to be done.\\nFor this recipe you will need the ingredients: \\nchocolate milk, instant chocolate pudding mix, vanilla\\nThe 7 steps to make this recipe are: \\nbeat milk , vanilla and mix for 2 minutes, spoon into paper or plastic cups, insert wooden pop stick or plastic spoon into each for handle, freeze 5 - 7 hours, to remove pop from cup run under warm water for 15 seconds, \"dont twist or pull on the stick when removing !\", \"you can also experiment with add ins - sprinkles , peanuts , marshmallows , chocolate chips , etc\"'}\n",
      "{'id': 86768, 'title': 'perfect  chocolate frosting', 'body': 'perfect  chocolate frosting\\nRecipe posted on: 2004-03-16\\nTags: 15-minutes-or-less, time-to-make, course, main-ingredient, cuisine, preparation, north-american, 5-ingredients-or-less, desserts, american, easy, cakes, chocolate, dietary, cake-fillings-and-frostings, number-of-servings\\nDescription: this is now one of my favorite chocolate frostings. i got it from \"the chocolate cake mix doctor\" by anne byrn. i have made a few changes to the recipe. actually, i didn\\'t have the 1 cup of semisweet chocolate chips that the original recipe called for. lennie came to the rescue (thanks!) by figuring out the appropriate amount of semisweet squares to use, which i did have on hand. now i always make it with the squares instead of the chips. this frosting is very thick, creamy, and fudgy. i usually bake two 9-inch layers, cut them into four layers, and slather this frosting on each and every layer and all over the top and sides--because i like a little cake with my frosting :) another thanks goes out to leeannr for making me post this recipe. now she loves it as much as i do.\\nThis recipe takes 15 minutes to be done.\\nFor this recipe you will need the ingredients: \\nsemisweet chocolate, heavy cream, butter, \"confectioners sugar\"\\nThe 14 steps to make this recipe are: \\nplace a large bowl , filled halfway with ice , in the sink, in a medium size pot over medium low heat , melt chocolate , cream , and butter, stirring constantly , cook the mixture until all of the butter and chocolate melts and thickens, cook for 5-6 minutes, do not let boil, remove pot from heat, \"whisk in the sifted confectioners sugar until mixture becomes smooth , then put the pot on top of the bowl of ice\", beat with an electric mixer on low speed for 4-5 minutes until frosting becomes smooth , thick , and fudgy, remove from ice, spread onto cooled cake layers, the frosting will thicken as it sets up, if the frosting gets too hard to spread , put back on low heat and stir constantly until you get the spreading consistency desired, i have been adding 1 tbs, of light corn syrup to the initial heavy cream and chocolate mixture to add more glossiness to the frosting'}\n",
      "{'id': 58651, 'title': 'turtle  squares', 'body': 'turtle  squares\\nRecipe posted on: 2003-04-07\\nTags: 30-minutes-or-less, time-to-make, course, main-ingredient, cuisine, preparation, occasion, north-american, for-large-groups, desserts, fruit, oven, easy, finger-food, kid-friendly, cookies-and-brownies, chocolate, bar-cookies, nuts, dietary, low-sodium, low-in-something, taste-mood, sweet, equipment, number-of-servings, presentation\\nDescription: for lovers of pecans and chocolate...\\nThis recipe takes 30 minutes to be done.\\nFor this recipe you will need the ingredients: \\nflour, brown sugar, butter, pecans, semi-sweet chocolate chips\\nThe 15 steps to make this recipe are: \\npreheat oven to 350 degrees f, spray a 13 x 9 baking pan evenly with non-stick cooking spray, beat 1 cup brown sugar with 1 / 2 cup melted butter with an electric mixer on medium for 2-3 minutes, add the flour mixture and mix until smooth, press the flour mixture evenly and firmly into the prepared baking pan, sprinkle the pecans evenly oven the flour mixture in the pan, mix the 2 / 3 cup butter and 1 / 2 cup brown sugar in a saucepan and bring to a boil over a medium heat, stir constantly while boiling for about 1 minute, spread the boiling mixture evenly over the pecans, bake for about 20 minutes, cool, melt the chocolate chips in the microwave , stirring ever 30 seconds or so until almost smooth, remove the chocolate chips , stir thoroughly to smooth and spread evenly over the top of the squares, chill for 15 minutes until the chocolate sets and then remove from fridge, when squares have returned to room temperature cut into 36 squares'}\n",
      "{'id': 124286, 'title': '100 chocolate cake', 'body': '100 chocolate cake\\nRecipe posted on: 2005-06-01\\nTags: 60-minutes-or-less, time-to-make, course, main-ingredient, cuisine, preparation, occasion, north-american, low-protein, desserts, american, easy, beginner-cook, potluck, vegetarian, cakes, chocolate, dietary, comfort-food, inexpensive, low-in-something, taste-mood, sweet, to-go\\nDescription: the mayonnaise in this may sound strange, but it it the \"secret ingredient\" that makes the cake so moist. i recommend not using miracle whip as it contains spices and flavorings that might alter the taste. they make great cupcakes too.\\nThis recipe takes 35 minutes to be done.\\nFor this recipe you will need the ingredients: \\nflour, sugar, baking soda, cocoa powder, salt, mayonnaise, water, vanilla, instant chocolate pudding mix, cool whip, milk\\nThe 5 steps to make this recipe are: \\nmix all cake ingredients till well blended, bake in 2 greased round cake pans in 350f oven for 30 minutes, cool , while cake cools completely mix filling and spread between cooled cake rounds and frost with grandmas fudge frosting, must refrigerate if serve with pudding filling, prep time does not include cooling time'}\n",
      "{'id': 220237, 'title': 'chocolate  cherry pecan biscotti', 'body': \"chocolate  cherry pecan biscotti\\nRecipe posted on: 2007-04-02\\nTags: time-to-make, course, main-ingredient, cuisine, preparation, for-large-groups, breads, fruit, easy, european, beginner-cook, italian, nuts, grains, pasta-rice-and-grains, number-of-servings, 4-hours-or-less\\nDescription: everybody i've ever made these for have loved them. i've made them with marshmellows before too... but that didn't really work out too well hehehe. in the picture the lighter biscottis don't have the cocoa powder in them and the darker ones do. (i like them without cocoa better but that's just me.)\\nThis recipe takes 76 minutes to be done.\\nFor this recipe you will need the ingredients: \\nflour, sugar, baking powder, salt, eggs, rum extract, almond extract, pure vanilla extract, maraschino cherry juice, maraschino cherry, pecans, cocoa, chocolate chips\\nThe 8 steps to make this recipe are: \\ncombine all ingredients together, make into a 1 / 2 inch thick loaf on a wax paper, place wax paper on a cookie sheet, bake for 45 minutes on 300f, cut loaf into pieces, bake 12 minutes on each flat side, brush top of biscotti with extra almond flavoring, serve\"}\n",
      "{'id': 157160, 'title': 'tuxedo  chocolate covered strawberries', 'body': 'tuxedo  chocolate covered strawberries\\nRecipe posted on: 2006-02-22\\nTags: time-to-make, course, main-ingredient, preparation, occasion, 5-ingredients-or-less, appetizers, desserts, fruit, easy, dinner-party, finger-food, holiday-event, chocolate, dietary, inexpensive, berries, strawberries, brunch, novelty, presentation, 4-hours-or-less\\nDescription: a neat idea for gift giving or for those special occasions where you want to \"dress up\" plain old chocolate covered strawberries.  very easy and relatively inexpensive, especially compared to the store-bought ones.  \\r\\n\\r\\n**yield stated below depends on how many of the strawberries are good enough to use, per carton**\\nThis recipe takes 75 minutes to be done.\\nFor this recipe you will need the ingredients: \\nstrawberries, semi-sweet chocolate chips, white chocolate\\nThe 11 steps to make this recipe are: \\nwash strawberries and dry well with a paper towel, prepare a large baking sheet by lining with waxed paper, in a medium sized , microwave-safe bowl , break up white chocolate into small pieces and melt , on medium power for approximately 4-6 minutes , checking and stirring every 2 minutes or so, remove from microwave and dip strawberries one at a time , holding each berry by the stem / leaves , and dipping right up to the base of the stem / leaves, place on baking sheet / waxed paper and repeat for all strawberries, place sheet in refrigerator til white chocolate sets , about 15-20 minutes, in another medium sized bowl , melt chocolate chips , using same time frame and power level as above, grasp strawberries by stems again , dipping one side into the chocolate , then the other side , so that the brown chocolate makes a \"v\" shape visible from the front of the strawberry, now , with a toothpick , \"paint\" on 2 or 3 buttons and a bow tie at the top of the berry with the brown chocolate, cool on the baking sheet / waxed paper , in refrigerator , til chocolate is set, strawberries will last 2-3 days in the refrigerator'}\n",
      "{'id': 206648, 'title': '1 2 3 hot chocolate', 'body': '1 2 3 hot chocolate\\nRecipe posted on: 2007-01-21\\nTags: 15-minutes-or-less, time-to-make, course, preparation, low-protein, 5-ingredients-or-less, beverages, easy, dietary, low-sodium, low-cholesterol, low-calorie, low-carb, low-in-something\\nDescription: i got this from a kraft magazine.\\nThis recipe takes 12 minutes to be done.\\nFor this recipe you will need the ingredients: \\nmilk, jell-o chocolate pudding and pie filling, cool whip\\nThe 5 steps to make this recipe are: \\npour milk into a medium saucepan, add dry pudding mix, beat with wire whisk for 1 minute, bring to a simmer on medium heat , stirring frequently with wire whisk, pour evenly into 6 mugs , top with whipped topping'}\n"
     ]
    }
   ],
   "source": [
    "from vespa.io import VespaQueryResponse\n",
    "\n",
    "with app.syncio(connections=1) as session:\n",
    "    response:VespaQueryResponse = session.query(\n",
    "        yql=\"select * from sources * where ({targetHits:1000}nearestNeighbor(embedding,q))\",\n",
    "        ranking=\"colbert_context_level\",\n",
    "        query=\"chocolate\", \n",
    "        body={\n",
    "            \"input.query(q)\": f'embed(e5, \"chocolate\")',\n",
    "            \"input.query(qt)\": f'embed(colbert, \"chocolate\")',\n",
    "        },\n",
    "    )\n",
    "\n",
    "assert(response.is_successful())\n",
    "for hit in response.hits:\n",
    "    record = {}\n",
    "    for field in ['id', 'title', 'body']:\n",
    "        record[field] = hit['fields'][field]\n",
    "    print(record)"
   ]
  },
  {
   "cell_type": "markdown",
   "metadata": {},
   "source": [
    "Podemos ver a relevância total e média de cada canto, sendo que:\n",
    "\n",
    "- `0`:  \"recipe_body = recipe['name'] + '\\n'\";\n",
    "- `1`:  \"Recipe posted on: \" + str(recipe['submitted']) + '\\n'\";\n",
    "- `2`:  \"Tags: \" + ', '.join(recipe['tags']) + '\\n'\";\n",
    "- `3`:  \"Description: \" + recipe['description'] + '\\n'\";\n",
    "- `4`:  \"This recipe takes \" + str(recipe['minutes']) + \" minutes to be done.\" + '\\n'\";\n",
    "- `5`:  \"For this recipe you will need the ingredients: \" + '\\n'\";\n",
    "- `6`:  ', '.join(recipe['ingredients']) + '\\n'\";\n",
    "- `7`:  \"The \" + str(recipe[\"n_steps\"]) + \" steps to make this recipe are: \" + '\\n'\";\n",
    "- `8`:  ', '.join(recipe['steps'])\";"
   ]
  },
  {
   "cell_type": "code",
   "execution_count": 21,
   "metadata": {},
   "outputs": [
    {
     "name": "stdout",
     "output_type": "stream",
     "text": [
      "{'0': 790.2047920227051, '1': 282.6123237609863, '2': 388.8832656741142, '3': 573.3172216415405, '4': 207.56607818603516, '5': 82.02421569824219, '6': 689.8951778411865, '7': 123.93949127197266, '8': 457.1917953491211}\n",
      "{'0': 79.02047920227051, '1': 28.261232376098633, '2': 38.888326567411426, '3': 57.33172216415405, '4': 20.756607818603516, '5': 8.202421569824219, '6': 68.98951778411865, '7': 12.393949127197265, '8': 45.71917953491211}\n"
     ]
    }
   ],
   "source": [
    "#response.hits[0]\n",
    "# get the cells of the first hit\n",
    "#print(response.hits[0]['fields']['matchfeatures']['max_sim_per_context']['cells'])\n",
    "\n",
    "total = {'0': 0, '1': 0, '2': 0, '3': 0, '4': 0, '5': 0, '6': 0, '7': 0, '8': 0}\n",
    "\n",
    "for hit in response.hits:\n",
    "    cells = hit['fields']['matchfeatures']['max_sim_per_context']['cells']\n",
    "    for key in total.keys():\n",
    "        total[key] += cells[key]\n",
    "\n",
    "median = total \n",
    "median = {k: v / len(response.hits) for k, v in median.items()}\n",
    "\n",
    "print(total)\n",
    "print(median)"
   ]
  }
 ],
 "metadata": {
  "kernelspec": {
   "display_name": "Python 3",
   "language": "python",
   "name": "python3"
  },
  "language_info": {
   "codemirror_mode": {
    "name": "ipython",
    "version": 3
   },
   "file_extension": ".py",
   "mimetype": "text/x-python",
   "name": "python",
   "nbconvert_exporter": "python",
   "pygments_lexer": "ipython3",
   "version": "3.9.13"
  }
 },
 "nbformat": 4,
 "nbformat_minor": 2
}
